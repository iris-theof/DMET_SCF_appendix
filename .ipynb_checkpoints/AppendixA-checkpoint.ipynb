{
 "cells": [
  {
   "cell_type": "markdown",
   "metadata": {},
   "source": [
    "# Appendix A : Exemplification of the different projections, subspaces and projected Hamiltonians"
   ]
  },
  {
   "cell_type": "markdown",
   "metadata": {},
   "source": [
    "# 1.The spaces, Hamiltonians and ground-state representations"
   ]
  },
  {
   "cell_type": "markdown",
   "metadata": {},
   "source": [
    "$$\n",
    "\\newcommand{\\bra}[1]{\\langle #1|}\n",
    "\\newcommand{\\ket}[1]{|#1\\rangle}\n",
    "\\newcommand{\\braket}[2]{\\langle #1|#2 \\rangle}\n",
    "\\newcommand{\\hc}{\\hat{c}}\n",
    "$$\n",
    "We first set-up the single-particle Hamiltonian. In our case of spinless particles on a five-site lattice the single-particle space is $\\mathcal{H}^{1} \\cong h_1 \\cong \\mathbb{C}^{5}$. The single-particle Hamiltonian includes in our case only next-neighbour hopping terms (with zero boundary conditions) and is expressed in the standard sites basis  $|i\\rangle$ with $i \\in \\{1, \\dots, 5\\}$"
   ]
  },
  {
   "cell_type": "markdown",
   "metadata": {},
   "source": [
    "$$\\boldsymbol{H}^{1} \\cong \\boldsymbol{h}^{(1)}=\n",
    "\\left(\n",
    "\\begin{array}{ccccc}\n",
    "0 & -1 & 0 & 0 & 0 \\\\\n",
    "-1 & 0 & -1 & 0 & 0 \\\\\n",
    "0 & -1 & 0 & -1 & 0 \\\\\n",
    "0 & 0 & -1 & 0 & -1 \\\\\n",
    "0 & 0 & 0 & -1 & 0 \\\\\n",
    "\\end{array}\n",
    "\\right)$$"
   ]
  },
  {
   "cell_type": "code",
   "execution_count": 1,
   "metadata": {},
   "outputs": [],
   "source": [
    "import numpy as np\n",
    "from numpy import linalg as LA\n",
    "from numpy.linalg import multi_dot\n",
    "np.set_printoptions(precision=5, suppress=True)\n",
    "\n",
    "h = np.zeros(( 5, 5 ))\n",
    "for ii in range(4):               \n",
    "    h[ ii, (ii+1) ] = -1\n",
    "    h[ (ii+1), ii ] = -1"
   ]
  },
  {
   "cell_type": "markdown",
   "metadata": {},
   "source": [
    " If we then consider the three-particle subspace, the minimal-energy solution is simply\n",
    "\\begin{align}\n",
    "|\\Phi\\rangle&=\\prod_{\\mu=1}^{3}\\hat{\\phi}^{\\dagger}_{\\mu}|0\\rangle=\\hat{\\phi}^{\\dagger}_{1}\\hat{\\phi}^{\\dagger}_{2}\\hat{\\phi}^{\\dagger}_{3}|0\\rangle,\n",
    "\\end{align}\n",
    "where every orbital creation operator is defined by\n",
    "\\begin{align}\n",
    "\\label{eq:orb_local_basis}\n",
    " \\hat{\\phi}^{\\dagger}_{\\mu}=\\sum_{k=1}^{5}\\underbrace{\\phi_{\\mu}(k)}_{= C_{k \\mu}}\\hat{c}^{\\dagger}_{k} .\n",
    "\\end{align}\n",
    "More compactly this reads as\n",
    "\n",
    "\\begin{align}\n",
    "|\\Phi\\rangle&=\\prod_{\\mu=1}^{3}\\sum_{k=1}^{5}C_{k\\mu}\\hat{c}^{\\dagger}_k|\\rm 0\\rangle,\n",
    "\\label{eq:Phi_init}\n",
    "\\end{align}\n",
    "\n",
    "where $C_{k\\mu}$ are the overlap elements between the two different bases $\\braket{k}{\\mu} \\equiv \\phi_{\\mu}(k)$. In other words, $C_{k\\mu}$ gives the value the orbital $\\mu$ has on site $k$, e.g., here we find the following $\\boldsymbol{C}$ matrix:"
   ]
  },
  {
   "cell_type": "code",
   "execution_count": 2,
   "metadata": {},
   "outputs": [
    {
     "name": "stdout",
     "output_type": "stream",
     "text": [
      "[[ 0.28868 -0.5      0.57735]\n",
      " [ 0.5     -0.5      0.     ]\n",
      " [ 0.57735 -0.      -0.57735]\n",
      " [ 0.5      0.5     -0.     ]\n",
      " [ 0.28868  0.5      0.57735]]\n"
     ]
    }
   ],
   "source": [
    "epsilon, eigenvector = LA.eigh(h)\n",
    "\n",
    "h_trial=np.zeros((5,5))\n",
    "h_trial=multi_dot([eigenvector,np.diag(epsilon),eigenvector.transpose()])\n",
    "                   \n",
    "C=np.transpose(np.array([eigenvector[:,0],eigenvector[:,1],eigenvector[:,2]])) \n",
    "print(C)"
   ]
  },
  {
   "cell_type": "markdown",
   "metadata": {},
   "source": [
    "The three lowest eigenvalues of $\\boldsymbol{h}^{(1)}$ are"
   ]
  },
  {
   "cell_type": "code",
   "execution_count": 3,
   "metadata": {},
   "outputs": [
    {
     "data": {
      "text/plain": [
       "array([-1.73205, -1.     ,  0.     ])"
      ]
     },
     "execution_count": 3,
     "metadata": {},
     "output_type": "execute_result"
    }
   ],
   "source": [
    "epsilon[0:3]"
   ]
  },
  {
   "cell_type": "markdown",
   "metadata": {},
   "source": [
    "the ground state energy of the three particle system $E$ is"
   ]
  },
  {
   "cell_type": "code",
   "execution_count": 4,
   "metadata": {},
   "outputs": [
    {
     "name": "stdout",
     "output_type": "stream",
     "text": [
      "-2.73205\n"
     ]
    }
   ],
   "source": [
    "E=sum(epsilon[0:3])\n",
    "print(np.around(E,5))"
   ]
  },
  {
   "cell_type": "markdown",
   "metadata": {},
   "source": [
    "The wave function $\\ket{\\Phi}$ in Fock space can be written as a linear combination of the basis functions $\\ket{F_i}$ as\n",
    "\\begin{eqnarray}\n",
    " |\\Phi\\rangle=\\sum_{i=1}^{2^5}\\Phi_i|F_i\\rangle=\\sum_{i=1}^{10}\\Phi'_i|F'_i\\rangle\n",
    " \\label{eq:phi_sum}\n",
    "\\end{eqnarray}\n",
    "where we have used the prime to denote only the three-particle basis functions $F'_i$ in Fock space:\n",
    "\\begin{eqnarray}\n",
    "|F'_1\\rangle&=&\\hc^\\dagger_1 \\hc^\\dagger_2 \\hc^\\dagger_3 \\ket{0}\\nonumber\\\\\n",
    "|F'_2\\rangle&=&\\hc^\\dagger_{1} \\hc^\\dagger_2 \\hc^\\dagger_4 \\ket{0}\\nonumber\\\\\n",
    "|F'_3\\rangle&=&\\hc^\\dagger_{1} \\hc^\\dagger_2  \\hc^\\dagger_5 \\ket{0}\\nonumber\\\\\n",
    "|F'_4\\rangle&=&\\hc^\\dagger_{1} \\hc^\\dagger_3 \\hc^\\dagger_4 \\ket{0} \\nonumber\\\\\n",
    "|F'_5\\rangle&=&\\hc^\\dagger_{1} \\hc^\\dagger_3  \\hc^\\dagger_5 \\ket{0}\\nonumber\\\\\n",
    "|F'_6\\rangle&=&\\hc^\\dagger_{1} \\hc^\\dagger_{4} \\hc^\\dagger_5 \\ket{0}\\nonumber\\\\\n",
    "|F'_7\\rangle&=& \\hc^\\dagger_2 \\hc^\\dagger_{3}\\hc^\\dagger_4\\ket{0}\\nonumber\\\\\n",
    "|F'_8\\rangle&=&\\hc^\\dagger_{2}\\hc^\\dagger_{3}  \\hc^\\dagger_5\\ket{0}\\nonumber\\\\\n",
    "|F'_9\\rangle&=&\\hc^\\dagger_{2}  \\hc^\\dagger_{4} \\hc^\\dagger_5\\ket{0}\\nonumber\\\\\n",
    "|F'_{10}\\rangle&=&\\hc^\\dagger_{3} \\hc^\\dagger_{4} \\hc^\\dagger_5 \\ket{0}\n",
    "\\label{eq:Fock_space_basis}\n",
    "\\end{eqnarray}"
   ]
  },
  {
   "cell_type": "markdown",
   "metadata": {},
   "source": [
    "The many body Hamiltonian in the Fock space representation will be a 10x10 matrix  with matrix elements $\\langle F'_i|\\hat{H}| F'_j\\rangle$ \n",
    "$$\n",
    "\\left(\n",
    "\\begin{array}{cccccccccc}\n",
    "0& \\bra{F_1'}\\hat{c}_3^{\\dagger}\\hat{c}_4\\ket{F_2'}  & 0 & 0 & 0 &0 &0 &0 &0 &0\\\\\n",
    "\\bra{F_2'}\\hat{c}_4^{\\dagger}\\hat{c}_3\\ket{F_1'}  & 0 & \\bra{F_2'}\\hat{c}_4^{\\dagger}\\hat{c}_5\\ket{F_3'}  &\\bra{F_2'}\\hat{c}_2^{\\dagger}\\hat{c}_3\\ket{F_4'}   & 0 & 0&0 &0 &0 &0\\\\\n",
    "0 & \\bra{F_3'}\\hat{c}_5^{\\dagger}\\hat{c}_4\\ket{F_2'}  & 0 & 0 & \\bra{F_3'}\\hat{c}_2^{\\dagger}\\hat{c}_3\\ket{F_5'} &0 &0 &0 &0 &0\\\\\n",
    "0 & \\bra{F_4'}\\hat{c}_3^{\\dagger}\\hat{c}_2\\ket{F_2'}   & 0 & 0 & \\bra{F_4'}\\hat{c}_4^{\\dagger}\\hat{c}_5\\ket{F_5'} & 0& \\bra{F_4'}\\hat{c}_1^{\\dagger}\\hat{c}_2\\ket{F_7'} &0 &0 &0\\\\\n",
    "0 & 0 &  \\bra{F_5'}\\hat{c}_3^{\\dagger}\\hat{c}_2\\ket{F_3'}& \\bra{F_5'}\\hat{c}_5^{\\dagger}\\hat{c}_4\\ket{F_4'} & 0 &\\bra{F_5'}\\hat{c}_3^{\\dagger}\\hat{c}_4\\ket{F_6'}  &0 &\\bra{F_5'}\\hat{c}_1^{\\dagger}\\hat{c}_2\\ket{F_8'}  &0 &0\\\\\n",
    "0 & 0 & 0 & 0 & \\bra{F_6'}\\hat{c}_4^{\\dagger}\\hat{c}_3\\ket{F_5'} &0 &0  &0 &\\bra{F_6'}\\hat{c}_1^{\\dagger}\\hat{c}_2\\ket{F_9'} &0\\\\\n",
    "0 & 0 & 0 & \\bra{F_7'}\\hat{c}_2^{\\dagger}\\hat{c}_1\\ket{F_4'} & 0  &0&0&\\bra{F_7'}\\hat{c}_4^{\\dagger}\\hat{c}_5\\ket{F_8'}&0&0 \\\\\n",
    "0 & 0 & 0 & 0 & \\bra{F_8'}\\hat{c}_2^{\\dagger}\\hat{c}_1\\ket{F_5'}& 0&\\bra{F_8'}\\hat{c}_5^{\\dagger}\\hat{c}_4\\ket{F_7'} &0 &\\bra{F_8'}\\hat{c}_3^{\\dagger}\\hat{c}_4\\ket{F_9'} &0\\\\\n",
    "0 & 0 & 0 & 0 & 0 & \\bra{F_9'}\\hat{c}_2^{\\dagger}\\hat{c}_1\\ket{F_6'}&0 &\\bra{F_9'}\\hat{c}_4^{\\dagger}\\hat{c}_3\\ket{F_8'} &0 &\\bra{F_9'}\\hat{c}_2^{\\dagger}\\hat{c}_3\\ket{F_{10}'}\\\\\n",
    "0 & 0 & 0 & 0 & 0 &0 &0 &0 &\\bra{F_{10}'}\\hat{c}_3^{\\dagger}\\hat{c}_2\\ket{F_9'}&0 \\\\\n",
    "\\end{array}\n",
    "\\right)$$"
   ]
  },
  {
   "cell_type": "code",
   "execution_count": 5,
   "metadata": {},
   "outputs": [],
   "source": [
    "H_F=np.zeros((10,10))\n",
    "H_F[3,6]=-1 \n",
    "H_F[6,3]=-1 \n",
    "H_F[4,7]=-1\n",
    "H_F[7,4]=-1\n",
    "H_F[5,8]=-1\n",
    "H_F[8,5]=-1\n",
    "H_F[1,3]=-1\n",
    "H_F[3,1]=-1\n",
    "H_F[2,4]=-1\n",
    "H_F[4,2]=-1\n",
    "H_F[8,9]=-1\n",
    "H_F[9,8]=-1\n",
    "H_F[0,1]=-1\n",
    "H_F[1,0]=-1\n",
    "H_F[4,5]=-1\n",
    "H_F[5,4]=-1\n",
    "H_F[7,8]=-1\n",
    "H_F[8,7]=-1\n",
    "H_F[1,2]=-1\n",
    "H_F[2,1]=-1\n",
    "H_F[3,4]=-1\n",
    "H_F[4,3]=-1\n",
    "H_F[6,7]=-1\n",
    "H_F[7,6]=-1\n"
   ]
  },
  {
   "cell_type": "markdown",
   "metadata": {},
   "source": [
    "Diagonalizing the resulting 10x10 matrix with matrix elements $\\langle F'_i|\\hat{H}| F'_j\\rangle$ leads to the same energy E"
   ]
  },
  {
   "cell_type": "code",
   "execution_count": 6,
   "metadata": {},
   "outputs": [
    {
     "name": "stdout",
     "output_type": "stream",
     "text": [
      "-2.73205\n"
     ]
    }
   ],
   "source": [
    "E_F, eigenvector_F = LA.eigh(H_F)\n",
    "print(np.around(E_F[0],5))"
   ]
  },
  {
   "cell_type": "markdown",
   "metadata": {},
   "source": [
    "and the wavefunction in Fock space $|\\Phi\\rangle=\\sum_{i=1}^{10}\\Phi'_i|F'_i\\rangle$ has the following expansion coefficients\n",
    "$\\Phi'_i$  "
   ]
  },
  {
   "cell_type": "code",
   "execution_count": 7,
   "metadata": {},
   "outputs": [
    {
     "data": {
      "text/plain": [
       "array([-0.10566, -0.28868, -0.28868, -0.39434, -0.5    , -0.28868,\n",
       "       -0.28868, -0.39434, -0.28868, -0.10566])"
      ]
     },
     "execution_count": 7,
     "metadata": {},
     "output_type": "execute_result"
    }
   ],
   "source": [
    "eigenvector_F[:,0]"
   ]
  },
  {
   "cell_type": "markdown",
   "metadata": {},
   "source": [
    "To compare with the wavefunction we got from the 3 lowest eigenfunctions of $\\boldsymbol{h}^{(1)}$ we carry out the sum and the product appearing in $|\\Phi\\rangle=\\prod_{\\mu=1}^{3}\\sum_{k=1}^{5}C_{k\\mu}\\hat{c}^{\\dagger}_k|{\\rm 0}\\rangle$, and the wave function is then expressed in the Fock space basis.\n",
    "The coefficients $\\Phi_1'$,..,$\\Phi_{10}'$ are calculated from the determinants of the corresponding submatrices of $C$ as:\n",
    " \\begin{align}\\label{eq:phi_2}\n",
    "\\Phi'_i=\\mathrm{det}\\begin{vmatrix}\n",
    "C_{j,1} & C_{j,2} & C_{j,3}\\\\\n",
    "C_{k,1} & C_{k,2} & C_{k,3}\\\\\n",
    "C_{l,1} & C_{l,2} & C_{l,3}\\\\\n",
    "\\end{vmatrix}.\n",
    "\\end{align}\n"
   ]
  },
  {
   "cell_type": "code",
   "execution_count": 8,
   "metadata": {},
   "outputs": [
    {
     "name": "stdout",
     "output_type": "stream",
     "text": [
      "0.10566 0.28868 0.28868 0.39434 0.5 0.28868 0.28868 0.39434 0.28868 0.10566\n"
     ]
    }
   ],
   "source": [
    "Phi1prime=LA.det(C[0:3,:])\n",
    "Phi2prime=LA.det(C[[0,1,3],:])\n",
    "Phi3prime=LA.det(C[[0,1,4],:])\n",
    "Phi4prime=LA.det(C[[0,2,3],:])\n",
    "Phi5prime=LA.det(C[[0,2,4],:])\n",
    "Phi6prime=LA.det(C[[0,3,4],:])\n",
    "Phi7prime=LA.det(C[[1,2,3],:])\n",
    "Phi8prime=LA.det(C[[1,2,4],:])\n",
    "Phi9prime=LA.det(C[[1,3,4],:])\n",
    "Phi10prime=LA.det(C[[2,3,4],:])\n",
    "\n",
    "print(np.around(Phi1prime,5),\n",
    "np.around(Phi2prime,5),np.around(Phi3prime,5),np.around(Phi4prime,5),np.around(Phi5prime,5),np.around(Phi6prime,5),\n",
    "     np.around(Phi7prime,5), np.around(Phi8prime,5), np.around(Phi9prime,5), np.around(Phi10prime,5))"
   ]
  },
  {
   "cell_type": "markdown",
   "metadata": {},
   "source": [
    "Moreover, one could verify that diagonalizing in the Fock space basis and keep the lowest eigenvalue gives again the same ground-state energy $E$ as the sum of the three lowest orbital energies of"
   ]
  },
  {
   "cell_type": "code",
   "execution_count": 9,
   "metadata": {},
   "outputs": [
    {
     "name": "stdout",
     "output_type": "stream",
     "text": [
      "-2.73205\n",
      "-2.73205\n"
     ]
    }
   ],
   "source": [
    "print(np.around(E_F[0],5))\n",
    "print(np.around(E,5))"
   ]
  },
  {
   "cell_type": "markdown",
   "metadata": {},
   "source": [
    "# 2.The different projections of the exact wave function"
   ]
  },
  {
   "cell_type": "markdown",
   "metadata": {},
   "source": [
    "# a. Projection via singular-value decomposition in Fock-space basis"
   ]
  },
  {
   "cell_type": "markdown",
   "metadata": {},
   "source": [
    "First we show the projection of the exact wave function performed in a Fock-space basis. We will do so via a SVD in the connecting matrix that involves the Fock-space basis functions on the impurity and the corresponding ones on the environment. We can recast our wave function similarly in a way that it will comprise of basis functions $\\ket{F^A_{i}}$ that belong only to the impurity and $\\ket{F^B_{i}}$ that will belong only to the environment. The number of linearly independent $\\ket{F^A_{i}}$ that we get is $2^2$, while for $\\ket{F^B_{i}}$ is $2^3$. For this we define two new vacua $\\ket{0}_A$ and $\\ket{0}_B$ and define $\\hat{c}_{1}^{\\dagger}$ and $\\hat{c}_2^{\\dagger}$ only on $\\ket{0}_A$ (which leads to a Fock space $\\mathcal{F}_A$) and accordingly for sites 3, 4 and 5 that constitute $B$ and $\\mathcal{F}_B$. By dimensional correspondence we find $\\mathcal{F} \\cong \\mathcal{F}_A \\otimes \\mathcal{F}_B$. The Fock states of the respective Fock spaces are\n",
    "\\begin{eqnarray}\n",
    "|F_1^A\\rangle&=&\\ket{0}_A\\nonumber\\\\\n",
    "|F^A_2\\rangle&=&\\hc^\\dagger_2\\ket{0}_A\\nonumber\\\\\n",
    "|F^A_3\\rangle&=&\\hc^\\dagger_{1}\\ket{0}_A\\nonumber\\\\\n",
    "|F^A_4\\rangle&=&\\hc^\\dagger_{1}\\hc^\\dagger_2\\ket{0}_A\n",
    "\\label{eq:A_i}\n",
    "\\end{eqnarray}\n",
    "and\n",
    "\\begin{eqnarray}\n",
    "|F^B_1\\rangle&=& \\ket{0}_B\\nonumber\\\\\n",
    "|F^B_2\\rangle&=& \\hc^\\dagger_3\\ket{0}_B\\nonumber\\\\\n",
    "|F^B_3\\rangle&=&  \\hc^\\dagger_4\\ket{0}_B\\nonumber\\\\\n",
    "|F^B_4\\rangle&=& \\hc^\\dagger_5\\ket{0}_B\\nonumber\\\\\n",
    "|F^B_5\\rangle&=& \\hc^\\dagger_3  \\hc^\\dagger_4\\ket{0}_B\\nonumber\\\\\n",
    "|F^B_6\\rangle&=& \\hc^\\dagger_3  \\hc^\\dagger_5\\ket{0}_B\\nonumber\\\\\n",
    "|F^B_7\\rangle&=& \\hc^\\dagger_4  \\hc^\\dagger_5 \\ket{0}_B\\nonumber\\\\\n",
    "|F^B_8\\rangle&=& \\hc^\\dagger_{3} \\hc^\\dagger_{4} \\hc^\\dagger_5\\ket{0}_B\n",
    "\\label{eq:B_i}\n",
    "\\end{eqnarray}\n",
    "Similar to the local creation and annhihilation operators, while the operators in each class $A$ and $B$ anti-commute, operators of different classes commute. So there is no automatic anti-symmetry of combined wave functions, i.e., when representing the three-particle wave function of $\\mathcal{F}$ \n",
    "\\begin{align}\\label{eq:split2_example}\n",
    "\\ket{\\Phi} = \\sum_{i=1}^{2^2}\\sum_{j=1}^{2^{3}}\\Phi_{i,j} \\ket{F^A_i}\\otimes \\ket{F^B_j}\n",
    "\\end{align}"
   ]
  },
  {
   "cell_type": "markdown",
   "metadata": {},
   "source": [
    "\\begin{align}\n",
    "\\label{eq:wavef_imp_bath}\n",
    " \\ket{\\Phi} =&\\overbrace{\\Phi_{1,8}}^{\\Phi'_{10}}\\overbrace{|F^A_1\\rangle\\otimes \\ket{F^B_8}}^{\\ket{F'_{10}}}+\\overbrace{\\Phi_{2,5}}^{\\Phi'_{7}}\\overbrace{|F^A_2\\rangle\\otimes \\ket{F^B_5}}^{\\ket{F'_{7}}}+\\nonumber\\\\\n",
    "& \\overbrace{\\Phi_{2,6}}^{\\Phi'_{8}}\\overbrace{|F^A_2\\rangle\\otimes \\ket{F^B_6}}^{\\ket{F'_{8}}}+\\overbrace{\\Phi_{2,7}}^{\\Phi'_{9}}\\overbrace{|F^A_2\\rangle\\otimes \\ket{F^B_7}}^{\\ket{F'_{9}}}+\\nonumber\\\\\n",
    "&\\overbrace{\\Phi_{3,5}}^{\\Phi'_{4}}\\overbrace{|F^A_3\\rangle\\otimes \\ket{F^B_5}}^{\\ket{F'_{4}}}+\\overbrace{\\Phi_{3,6}}^{\\Phi'_{5}}\\overbrace{|F^A_3\\rangle\\otimes \\ket{F^B_6}}^{\\ket{F'_{5}}}+\\nonumber\\\\\n",
    "&\\overbrace{\\Phi_{3,7}}^{\\Phi'_{6}}\\overbrace{|A_3\\rangle\\otimes \\ket{F^B_7}}^{\\ket{F'_{6}}}+\\overbrace{\\Phi_{4,2}}^{\\Phi'_{1}}\\overbrace{|F^A_4\\rangle\\otimes \\ket{F^B_2}}^{\\ket{F'_{1}}}+\\nonumber\\\\\n",
    "&\\overbrace{\\Phi_{4,3}}^{\\Phi'_{2}}\\overbrace{|A_4\\rangle\\otimes \\ket{F^B_3}}^{\\ket{F'_{2}}}+\\overbrace{\\Phi_{4,4}}^{\\Phi'_{3}}\\overbrace{|F^A_4\\rangle\\otimes \\ket{F^B_4}}^{\\ket{F'_{3}}}\n",
    "\\end{align}\n",
    "The connecting matrix $\\mathbf{\\Phi}$ with entries $\\Phi_{i,j}$ defined just above (all the other entries that this matrix has are zero)\n",
    "\\begin{align}\n",
    "    \\mathbf{\\Phi}=\\begin{pmatrix}\n",
    "0 & 0 & 0 & 0 & 0 & 0 & 0 & \\Phi'_{10}\\\\\n",
    "0 & 0 & 0 & 0 & \\Phi'_{7} & \\Phi'_{8} & \\Phi'_{9} & 0 \\\\\n",
    "0 & 0 & 0 & 0 & \\Phi'_{4} & \\Phi'_{5} & \\Phi'_{6} & 0 \\\\\n",
    "0 & \\Phi'_{1} & \\Phi'_{2} & \\Phi'_{3} & 0 & 0 & 0 & 0\n",
    "\\end{pmatrix}.\n",
    "\\end{align}"
   ]
  },
  {
   "cell_type": "code",
   "execution_count": 10,
   "metadata": {},
   "outputs": [
    {
     "name": "stdout",
     "output_type": "stream",
     "text": [
      "[[0.      0.      0.      0.      0.      0.      0.      0.10566]\n",
      " [0.      0.      0.      0.      0.28868 0.39434 0.28868 0.     ]\n",
      " [0.      0.      0.      0.      0.39434 0.5     0.28868 0.     ]\n",
      " [0.      0.10566 0.28868 0.28868 0.      0.      0.      0.     ]]\n"
     ]
    }
   ],
   "source": [
    "Phiconnect=np.zeros([4,8])\n",
    "Phiconnect[0,7]=Phi10prime\n",
    "Phiconnect[1,4]=Phi7prime\n",
    "Phiconnect[1,5]=Phi8prime\n",
    "Phiconnect[1,6]=Phi9prime\n",
    "Phiconnect[2,4]=Phi4prime\n",
    "Phiconnect[2,5]=Phi5prime\n",
    "Phiconnect[2,6]=Phi6prime\n",
    "Phiconnect[3,1]=Phi1prime\n",
    "Phiconnect[3,2]=Phi2prime\n",
    "Phiconnect[3,3]=Phi3prime\n",
    "\n",
    "print(Phiconnect)"
   ]
  },
  {
   "cell_type": "markdown",
   "metadata": {},
   "source": [
    "Performing singular value decomposition on $\\mathbf{\\Phi}$ we obtain the matrices $\\mathbf{U}$ "
   ]
  },
  {
   "cell_type": "code",
   "execution_count": 11,
   "metadata": {},
   "outputs": [
    {
     "name": "stdout",
     "output_type": "stream",
     "text": [
      "[[ 0.       0.       1.       0.     ]\n",
      " [-0.62978  0.       0.       0.77677]\n",
      " [-0.77677 -0.       0.      -0.62978]\n",
      " [-0.       1.       0.      -0.     ]]\n"
     ]
    }
   ],
   "source": [
    "u, l, vh = np.linalg.svd(Phiconnect, full_matrices=True)\n",
    "print(u)"
   ]
  },
  {
   "cell_type": "markdown",
   "metadata": {},
   "source": [
    "and $\\mathbf{V}^{\\dagger}$."
   ]
  },
  {
   "cell_type": "code",
   "execution_count": 12,
   "metadata": {},
   "outputs": [
    {
     "name": "stdout",
     "output_type": "stream",
     "text": [
      "[[ 0.      -0.       0.       0.      -0.54283 -0.70812 -0.45156  0.     ]\n",
      " [ 0.       0.25056  0.68455  0.68455  0.       0.      -0.       0.     ]\n",
      " [ 0.       0.       0.       0.       0.       0.       0.       1.     ]\n",
      " [ 0.      -0.       0.       0.      -0.48654 -0.1731   0.85634  0.     ]\n",
      " [ 0.      -0.43646 -0.32517  0.48493  0.46861 -0.46861  0.17152  0.     ]\n",
      " [ 0.      -0.64638 -0.08858  0.32517 -0.46861  0.46861 -0.17152  0.     ]\n",
      " [ 0.      -0.57351  0.64638 -0.43646  0.17152 -0.17152  0.06278  0.     ]\n",
      " [-1.       0.       0.       0.       0.       0.       0.       0.     ]]\n"
     ]
    }
   ],
   "source": [
    "print(vh)"
   ]
  },
  {
   "cell_type": "markdown",
   "metadata": {},
   "source": [
    "The new connecting matrix is diagonal $\\Lambda$"
   ]
  },
  {
   "cell_type": "code",
   "execution_count": 13,
   "metadata": {},
   "outputs": [
    {
     "name": "stdout",
     "output_type": "stream",
     "text": [
      "[[0.89919 0.      0.      0.      0.      0.      0.      0.     ]\n",
      " [0.      0.4217  0.      0.      0.      0.      0.      0.     ]\n",
      " [0.      0.      0.10566 0.      0.      0.      0.      0.     ]\n",
      " [0.      0.      0.      0.04955 0.      0.      0.      0.     ]]\n"
     ]
    }
   ],
   "source": [
    "Lambda=np.zeros((4,8))\n",
    "np.fill_diagonal(Lambda,l)\n",
    "print(Lambda)"
   ]
  },
  {
   "cell_type": "markdown",
   "metadata": {},
   "source": [
    "After the singular value decomposition we can express the wavefunction as \n",
    "\\begin{align}\n",
    "\\label{eq:SVD_Phi_Fock}\n",
    "|\\Phi\\rangle=    &\\sum_{i=1}^4\\lambda_i\\ket{A_i}\\otimes\\ket{B_i}\\\\\\nonumber\n",
    " %   =& 0.899193\\cdot\\overbrace{(-0.629778\\ket{F^A_2}-0.776775\\ket{F^A_3})}^{\\ket{A_1}}\\nonumber\\\\\n",
    " %   &\\otimes\\overbrace{(-0.542834\\ket{F^B_5}-0.708115\\ket{F^B_6}-0.451557\\ket{F^B_7})}^{\\ket{B_1}}\\nonumber\\\\\n",
    " %   &+0.4217\\cdot\\overbrace{(-\\ket{F^A_4})}^{\\ket{A_2}}\\nonumber\\\\\n",
    " %   &\\otimes\\overbrace{(-0.250563\\ket{F^B_2}-0.68455\\ket{F^B_3}-0.68455\\ket{F^B_4})}^{\\ket{B_2}}\\nonumber\\\\\n",
    " %   &+0.105662\\cdot\\overbrace{(-\\ket{F^A_1})}^{\\ket{A_3}}\\otimes\\overbrace{(-\\ket{F^B_8})}^{\\ket{B_3}}\\nonumber\\\\\n",
    " %  &+0.0495532\\cdot\\overbrace{(0.776775\\ket{F^A_2}-0.629778\\ket{F^A_3})}^{\\ket{A_4}}\\nonumber\\\\\n",
    " %   &\\otimes\\overbrace{(-0.486541\\ket{F^B_5}-0.173099\\ket{F^B_6}+0.856338\\ket{F^B_7})}^{\\ket{B_4}}\n",
    "     \\end{align}\n",
    "     The columns of $\\boldsymbol{U}$ give us the transformation:\n",
    "$\\ket{A_i}=\\sum_{j=1}^4 U_{ji}\\ket{F^A_j}$\n",
    "and the $\\boldsymbol{V}^{\\dagger}$: $\\ket{B_i}=\\sum_{j=1}^8 V^{\\dagger}_{ij}\\ket{F^B_j}$."
   ]
  },
  {
   "cell_type": "markdown",
   "metadata": {},
   "source": [
    "Now we can verify that $\\boldsymbol{U}\\boldsymbol{\\Lambda}\\boldsymbol{V}^{\\dagger}=\\boldsymbol{\\Phi}$."
   ]
  },
  {
   "cell_type": "code",
   "execution_count": 14,
   "metadata": {},
   "outputs": [
    {
     "name": "stdout",
     "output_type": "stream",
     "text": [
      "[[ 0.       0.       0.       0.       0.       0.       0.       0.10566]\n",
      " [ 0.       0.       0.       0.       0.28868  0.39434  0.28868  0.     ]\n",
      " [ 0.      -0.      -0.      -0.       0.39434  0.5      0.28868  0.     ]\n",
      " [ 0.       0.10566  0.28868  0.28868  0.       0.      -0.       0.     ]]\n"
     ]
    }
   ],
   "source": [
    "verify_Phi=multi_dot([u,Lambda,vh])\n",
    "print(verify_Phi)"
   ]
  },
  {
   "cell_type": "markdown",
   "metadata": {},
   "source": [
    "i.e. we see that this is of course the same wave function."
   ]
  },
  {
   "cell_type": "markdown",
   "metadata": {},
   "source": [
    "# b. Projection via singular-value decomposition in the impurity submatrix"
   ]
  },
  {
   "cell_type": "markdown",
   "metadata": {},
   "source": [
    "Here we perform the projection via a SVD for the non interacting system on the orbital coefficient matrix of the creation operators. Due to our choice of $A$ we have"
   ]
  },
  {
   "cell_type": "code",
   "execution_count": 15,
   "metadata": {},
   "outputs": [
    {
     "name": "stdout",
     "output_type": "stream",
     "text": [
      "[[ 0.28868 -0.5      0.57735]\n",
      " [ 0.5     -0.5      0.     ]]\n"
     ]
    }
   ],
   "source": [
    "CA=C[[0,1],:]\n",
    "print(CA)"
   ]
  },
  {
   "cell_type": "markdown",
   "metadata": {},
   "source": [
    "Performing SVD on the matrix $\\boldsymbol{C}^A$"
   ]
  },
  {
   "cell_type": "code",
   "execution_count": 16,
   "metadata": {},
   "outputs": [],
   "source": [
    "u1, l1, vh1 = np.linalg.svd(CA, full_matrices=True)"
   ]
  },
  {
   "cell_type": "markdown",
   "metadata": {},
   "source": [
    "we get the factorization for its matrix elements\n",
    "\\begin{align}\n",
    "\\label{eq:svd_orb}\n",
    "{C}^A_{k\\mu}=C_{k, \\mu}(k \\in A)=\\sum_{k=1}^{2}\\sum_{\\nu=1}^3 U_{k i}\\Lambda_{i\\nu} V_{\\nu \\mu}^{\\dagger}\n",
    "\\end{align}\n",
    "where $U$ for our example reads:"
   ]
  },
  {
   "cell_type": "code",
   "execution_count": 17,
   "metadata": {},
   "outputs": [
    {
     "name": "stdout",
     "output_type": "stream",
     "text": [
      "[[-0.77677 -0.62978]\n",
      " [-0.62978  0.77677]]\n"
     ]
    }
   ],
   "source": [
    "print(u1)"
   ]
  },
  {
   "cell_type": "markdown",
   "metadata": {},
   "source": [
    "$\\Lambda$ reads:"
   ]
  },
  {
   "cell_type": "code",
   "execution_count": 18,
   "metadata": {},
   "outputs": [
    {
     "name": "stdout",
     "output_type": "stream",
     "text": [
      "[[0.99317 0.      0.     ]\n",
      " [0.      0.4246  0.     ]]\n"
     ]
    }
   ],
   "source": [
    "Lambda1=np.zeros((2,3))\n",
    "np.fill_diagonal(Lambda1,l1)\n",
    "print(Lambda1)"
   ]
  },
  {
   "cell_type": "markdown",
   "metadata": {},
   "source": [
    " and $\\mathbf{V}$ reads"
   ]
  },
  {
   "cell_type": "code",
   "execution_count": 19,
   "metadata": {},
   "outputs": [
    {
     "name": "stdout",
     "output_type": "stream",
     "text": [
      "[[-0.54283  0.48654 -0.68455]\n",
      " [ 0.70812 -0.1731  -0.68455]\n",
      " [-0.45156 -0.85634 -0.25056]]\n"
     ]
    }
   ],
   "source": [
    "v1=np.transpose(vh1)\n",
    "print(v1)"
   ]
  },
  {
   "cell_type": "markdown",
   "metadata": {},
   "source": [
    "The matrix $\\mathbf{V}_1$ is now the sought-after rotation matrix, which rotates the orbitals into a new basis. In this new basis, only the first two orbitals have overlap with the first two impurity sites\n",
    "\\begin{align}\n",
    "\\mathbf{\\tilde{C}}&=\\mathbf{C}\\cdot \\mathbf{V}_1\n",
    "\\end{align}"
   ]
  },
  {
   "cell_type": "code",
   "execution_count": 20,
   "metadata": {},
   "outputs": [
    {
     "name": "stdout",
     "output_type": "stream",
     "text": [
      "[[-0.77147 -0.26741  0.     ]\n",
      " [-0.62547  0.32982  0.     ]\n",
      " [-0.0527   0.77531 -0.25056]\n",
      " [ 0.08264  0.15672 -0.68455]\n",
      " [-0.06335 -0.4405  -0.68455]]\n"
     ]
    }
   ],
   "source": [
    "C_tilde=np.dot(C,v1)\n",
    "print(C_tilde)"
   ]
  },
  {
   "cell_type": "markdown",
   "metadata": {},
   "source": [
    "If we now express the original single particle hamiltonian $\\boldsymbol{h}^{(1)}$ in the $\\mathbf{\\tilde{C}}$ basis we will get 3 eigenvalues which are identical with the 3 lowest ones of "
   ]
  },
  {
   "cell_type": "code",
   "execution_count": 21,
   "metadata": {},
   "outputs": [
    {
     "name": "stdout",
     "output_type": "stream",
     "text": [
      "[-1.73205 -1.       0.     ]\n"
     ]
    }
   ],
   "source": [
    "h_tilde=multi_dot([C_tilde.transpose(),h,C_tilde])\n",
    "e_tilde, phi_tilde=LA.eigh(h_tilde)\n",
    "print(e_tilde)"
   ]
  },
  {
   "cell_type": "markdown",
   "metadata": {},
   "source": [
    "As $V$ is a unitary matrix its determinant is one, which results in leaving the Slater determinant of the original wave function unchanged and the new \"rotated\" orbitals still orthonormal. To verify that the wavefunction remains indeed unchanged we calculate its Fock space representation and we see that it agrees with the original one."
   ]
  },
  {
   "cell_type": "code",
   "execution_count": 22,
   "metadata": {},
   "outputs": [
    {
     "name": "stdout",
     "output_type": "stream",
     "text": [
      "-0.10566 -0.28868 -0.28868 -0.39434 -0.5 0.28868 -0.28868 -0.39434 -0.28868 -0.10566\n"
     ]
    }
   ],
   "source": [
    "C_new=(np.dot(phi_tilde.transpose(),C.transpose())).transpose()\n",
    "Phi1prime_new=LA.det(C_new[0:3,:])\n",
    "Phi2prime_new=LA.det(C_new[[0,1,3],:])\n",
    "Phi3prime_new=LA.det(C_new[[0,1,4],:])\n",
    "Phi4prime_new=LA.det(C_new[[0,2,3],:])\n",
    "Phi5prime_new=LA.det(C_new[[0,2,4],:])\n",
    "Phi6prime_new=LA.det(C_new[[0,3,4],:])\n",
    "Phi7prime_new=LA.det(C_new[[1,2,3],:])\n",
    "Phi8prime_new=LA.det(C_new[[1,2,4],:])\n",
    "Phi9prime_new=LA.det(C_new[[1,3,4],:])\n",
    "Phi10prime_new=LA.det(C_new[[2,3,4],:])\n",
    "\n",
    "\n",
    "print(np.around(Phi1prime_new,5),\n",
    "np.around(Phi2prime_new,5),np.around(Phi3prime_new,5),np.around(Phi4prime_new,5),np.around(Phi5prime_new,5),np.around(Phi6prime,5),\n",
    "     np.around(Phi7prime_new,5), np.around(Phi8prime_new,5), np.around(Phi9prime_new,5), np.around(Phi10prime_new,5))"
   ]
  },
  {
   "cell_type": "markdown",
   "metadata": {},
   "source": [
    "In this basis the third orbital $\\tilde{\\varphi}_3$ is zero on the impurity B: $\\tilde{\\varphi}_3=\\sum_{k=3}^{5}\\tilde{C}_{k3}\\hat{c}^{\\dagger}_k$"
   ]
  },
  {
   "cell_type": "code",
   "execution_count": 23,
   "metadata": {},
   "outputs": [
    {
     "name": "stdout",
     "output_type": "stream",
     "text": [
      "[ 0.       0.      -0.25056 -0.68455 -0.68455]\n"
     ]
    }
   ],
   "source": [
    "phi3tilde=C_tilde[:,2]\n",
    "print(phi3tilde)"
   ]
  },
  {
   "cell_type": "markdown",
   "metadata": {},
   "source": [
    "The first two orbitals have still contributions on the impurity and the environment. To construct the missing further two bath orbitals (we should have 3) we remove the part that belongs to the impurity and renormalize the resulting vectors and creation operators as\n",
    "\n",
    "\\begin{align}\n",
    "\\label{eq:def_b}\n",
    "    \\hat{\\varphi}^{B,\\dagger}_{\\mu} &=\\sum_{k=3}^5\\hat{c}^{\\dagger}_k \\frac{\\tilde{C}_{k\\mu}}{\\sqrt{\\sum_{l=3}^5|\\tilde{C}_{l\\mu}|^2}}=\\sum_{k=3}^5\\hat{c}^{\\dagger}_k \\underbrace{\\frac{\\tilde{C}_{k\\mu}}{\\| \\tilde{\\varphi}_{\\mu}\\|_B}}_{=\\varphi^{B}_\\mu(k)}.\n",
    "    \\end{align}\n",
    "The normalization factors that appear in the denominator read\n",
    "    \\begin{align}\n",
    "   \\| \\tilde{\\varphi}_{1}\\|_B= \\sqrt{\\sum_{l=3}^5|\\tilde{C}_{l1}|^2}\n",
    "   \\end{align}"
   ]
  },
  {
   "cell_type": "code",
   "execution_count": 24,
   "metadata": {},
   "outputs": [
    {
     "name": "stdout",
     "output_type": "stream",
     "text": [
      "0.11671\n"
     ]
    }
   ],
   "source": [
    "normphi1tildeB=np.sqrt(sum(C_tilde[2:5,0]**2))\n",
    "print(np.around(normphi1tildeB,5))"
   ]
  },
  {
   "cell_type": "markdown",
   "metadata": {},
   "source": [
    "  \\begin{align}\n",
    "    \\| \\tilde{\\varphi}_{2}\\|_B=   \\sqrt{\\sum_{l=3}^5|\\tilde{C}_{l2}|^2}\n",
    "    \\end{align}"
   ]
  },
  {
   "cell_type": "code",
   "execution_count": 25,
   "metadata": {},
   "outputs": [
    {
     "name": "stdout",
     "output_type": "stream",
     "text": [
      "0.90538\n"
     ]
    }
   ],
   "source": [
    "normphi2tildeB=np.sqrt(sum(C_tilde[2:5,1]**2))\n",
    "print(np.around(normphi2tildeB,5))"
   ]
  },
  {
   "cell_type": "markdown",
   "metadata": {},
   "source": [
    "such that\n",
    "    \\begin{align}\n",
    "    \\hat{\\varphi}_1^{B,\\dagger} &\n",
    "    =-0.45156\\hat{c}^{\\dagger}_3+0.70812\\hat{c}^{\\dagger}_4-0.54283\\hat{c}^{\\dagger}_5\n",
    "\\end{align}"
   ]
  },
  {
   "cell_type": "code",
   "execution_count": 26,
   "metadata": {},
   "outputs": [
    {
     "name": "stdout",
     "output_type": "stream",
     "text": [
      "[-0.45156  0.70812 -0.54283]\n"
     ]
    }
   ],
   "source": [
    "phi1tildeB=C_tilde[2:5,0]/normphi1tildeB\n",
    "\n",
    "print(phi1tildeB)"
   ]
  },
  {
   "cell_type": "markdown",
   "metadata": {},
   "source": [
    " \\begin{align}\n",
    "    \\hat{\\varphi}_2^{B,\\dagger} &\n",
    "    =0.85634\\hat{c}^{\\dagger}_3+0.17310\\hat{c}^{\\dagger}_4-0.48654\\hat{c}^{\\dagger}_5\n",
    " \\end{align}   "
   ]
  },
  {
   "cell_type": "code",
   "execution_count": 27,
   "metadata": {},
   "outputs": [
    {
     "name": "stdout",
     "output_type": "stream",
     "text": [
      "[ 0.85634  0.1731  -0.48654]\n"
     ]
    }
   ],
   "source": [
    "phi2tildeB=C_tilde[2:5,1]/normphi2tildeB\n",
    "\n",
    "print(phi2tildeB)"
   ]
  },
  {
   "cell_type": "markdown",
   "metadata": {},
   "source": [
    " In a similar manner we can define the normalization coefficient for the first orbital on the impurity\n",
    "  \\begin{align}\n",
    "   \\| \\tilde{\\varphi}_{1}\\|_A= \\sqrt{\\sum_{l=1}^2|\\tilde{C}_{l1}|^2}\n",
    "   \\end{align}"
   ]
  },
  {
   "cell_type": "code",
   "execution_count": 28,
   "metadata": {},
   "outputs": [
    {
     "name": "stdout",
     "output_type": "stream",
     "text": [
      "0.99317\n"
     ]
    }
   ],
   "source": [
    "normphi1tildeA=np.sqrt(sum(C_tilde[0:2,0]**2))\n",
    "print(np.around(normphi1tildeA,5))"
   ]
  },
  {
   "cell_type": "markdown",
   "metadata": {},
   "source": [
    "and for the second orbital on the impurity is\n",
    "\\begin{align}\n",
    "   \\| \\tilde{\\varphi}_{2}\\|_A= \\sqrt{\\sum_{l=1}^2|\\tilde{C}_{l2}|^2}\n",
    "\\end{align}"
   ]
  },
  {
   "cell_type": "code",
   "execution_count": 29,
   "metadata": {},
   "outputs": [
    {
     "name": "stdout",
     "output_type": "stream",
     "text": [
      "0.4246\n"
     ]
    }
   ],
   "source": [
    "normphi2tildeA=np.sqrt(sum(C_tilde[0:2,1]**2))\n",
    "print(np.around(normphi2tildeA,5))"
   ]
  },
  {
   "cell_type": "markdown",
   "metadata": {},
   "source": [
    "\\begin{align}\n",
    " \\hat{\\varphi}_1^{A,\\dagger} \n",
    "   & =-0.77677\\hat{c}^{\\dagger}_1-0.62978\\hat{c}^{\\dagger}_2\\\\ \\nonumber\\\\\n",
    "   \\hat{\\varphi}_2^{A,\\dagger}\n",
    "    &=-0.62978\\hat{c}^{\\dagger}_1+0.77677\\hat{c}^{\\dagger}_2\n",
    "\\end{align}"
   ]
  },
  {
   "cell_type": "code",
   "execution_count": 30,
   "metadata": {},
   "outputs": [
    {
     "name": "stdout",
     "output_type": "stream",
     "text": [
      "[-0.77677 -0.62978]\n"
     ]
    }
   ],
   "source": [
    "phi1tildeA=C_tilde[0:2,0]/normphi1tildeA\n",
    "\n",
    "print(phi1tildeA)"
   ]
  },
  {
   "cell_type": "code",
   "execution_count": 31,
   "metadata": {},
   "outputs": [
    {
     "name": "stdout",
     "output_type": "stream",
     "text": [
      "[-0.62978  0.77677]\n"
     ]
    }
   ],
   "source": [
    "phi2tildeA=C_tilde[0:2,1]/normphi2tildeA\n",
    "\n",
    "print(phi2tildeA)"
   ]
  },
  {
   "cell_type": "markdown",
   "metadata": {},
   "source": [
    "If we now express $\\Phi$ in these new orbitals (that are no longer normalized on the full lattice $A+B$ but only on the respective sub-lattices) we find with the corresponding normalization coefficients\n",
    "\\begin{align}\n",
    "\\ket{\\Phi}\n",
    "&=\\overbrace{\\left(\\|\\tilde{\\varphi}_1\\|_A \\hat{\\varphi}_1^{A,\\dagger} + \\|\\tilde{\\varphi}_1\\|_B\\hat{\\varphi}_1^{B,\\dagger} \\right)}^{\\hat{\\tilde{\\varphi}}^\\dagger_1}\\cdot\\nonumber\\\\\n",
    "&\\overbrace{\\left(\\|\\tilde{\\varphi}_2\\|_A \\hat{\\varphi}_2^{A,\\dagger} + \\|\\tilde{\\varphi}_2\\|_B\\hat{\\varphi}_2^{B,\\dagger}\\right)}^{\\hat{\\tilde{\\varphi}}^\\dagger_2}\\cdot\n",
    " \\hat{\\varphi}^{B,\\dagger}\\ket{0}\\nonumber\\\\\n",
    "&= \\|\\tilde{\\varphi}_1\\|_A  \\|\\tilde{\\varphi}_2\\|_A  \\hat{\\varphi}_1^{A,\\dagger}  \\hat{\\varphi}_2^{A,\\dagger}  \\hat{\\varphi}_3^{B,\\dagger} \\ket{0}\\nonumber\\\\\n",
    "&+\\|\\tilde{\\varphi}_1\\|_A  \\|\\tilde{\\varphi}_2\\|_B \n",
    " \\hat{\\varphi}_1^{A,\\dagger}  \\hat{\\varphi}_2^{B,\\dagger}  \\hat{\\varphi}_3^{B,\\dagger} \\ket{0}\\nonumber\\\\\n",
    "&+ \\|\\tilde{\\varphi}_1\\|_B  \\|\\tilde{\\varphi}_2\\|_A \n",
    " \\hat{\\varphi}_1^{B,\\dagger}  \\hat{\\varphi}_2^{A,\\dagger}  \\hat{\\varphi}_3^{B,\\dagger} \\ket{0}\\nonumber\\\\\n",
    "&+ \\|\\tilde{\\varphi}_1\\|_B  \\|\\tilde{\\varphi}_2\\|_B \n",
    " \\hat{\\varphi}_1^{B,\\dagger}  \\hat{\\varphi}_2^{B,\\dagger}  \\hat{\\varphi}_3^{B,\\dagger}\\ket{0}\n",
    "\\label{eq:SVD_non_inter}\n",
    "\\end{align}"
   ]
  },
  {
   "cell_type": "markdown",
   "metadata": {},
   "source": [
    " Firstly we find that\n",
    "\\begin{eqnarray}\n",
    "\\|\\tilde{\\varphi}_1\\|_A  \\|\\tilde{\\varphi}_2\\|_A=0.42170=\\lambda_2\n",
    "\\end{eqnarray}"
   ]
  },
  {
   "cell_type": "code",
   "execution_count": 32,
   "metadata": {},
   "outputs": [
    {
     "name": "stdout",
     "output_type": "stream",
     "text": [
      "0.4217\n"
     ]
    }
   ],
   "source": [
    "print(np.around(  normphi1tildeA*normphi2tildeA ,5))"
   ]
  },
  {
   "cell_type": "code",
   "execution_count": 33,
   "metadata": {},
   "outputs": [
    {
     "name": "stdout",
     "output_type": "stream",
     "text": [
      "0.4217\n"
     ]
    }
   ],
   "source": [
    "print(np.around(l[1],5)) "
   ]
  },
  {
   "cell_type": "markdown",
   "metadata": {},
   "source": [
    "and the corresponding vectors can be associated as (note the anti-symmetrization)\n",
    "\\begin{align}\n",
    "\\hat{\\varphi}_1^{A,\\dagger}  \\hat{\\varphi}_2^{A,\\dagger}  \\ket{0} &=\n",
    "\\underbrace{(\\varphi_{1}^{A}(1) \\varphi_{2}^{A}(2)- \\varphi_{2}^{A}(1) \\varphi_{1}^{A}(2))}_{= -1} \\hat{c}^{\\dagger}_1 \\hat{c}^{\\dagger}_2 \\ket{0}\\nonumber\\\\\n",
    "&\\equiv  \\ket{A_2}.\n",
    "\\end{align}"
   ]
  },
  {
   "cell_type": "code",
   "execution_count": 34,
   "metadata": {},
   "outputs": [
    {
     "name": "stdout",
     "output_type": "stream",
     "text": [
      "-1.0\n"
     ]
    }
   ],
   "source": [
    "print(phi1tildeA[0]*phi2tildeA[1]-phi2tildeA[0]*phi1tildeA[1])"
   ]
  },
  {
   "cell_type": "markdown",
   "metadata": {},
   "source": [
    "and \n",
    "\\begin{align}\n",
    "    \\hat{\\varphi}_3^{B,\\dagger} \\ket{0}&= \\left(-0.250563 \\hat{c}^\\dagger_3 -0.68455 \\hat{c}^\\dagger_4 -0.68455  \\hat{c}^\\dagger_5 \\right) \\ket{0}\\nonumber\\\\\n",
    "      \\equiv &\\ket{B_2}.\n",
    "\\end{align}"
   ]
  },
  {
   "cell_type": "code",
   "execution_count": 35,
   "metadata": {},
   "outputs": [
    {
     "name": "stdout",
     "output_type": "stream",
     "text": [
      "[ 0.       0.      -0.25056 -0.68455 -0.68455]\n"
     ]
    }
   ],
   "source": [
    "print(phi3tilde)"
   ]
  },
  {
   "cell_type": "markdown",
   "metadata": {},
   "source": [
    "This allows us to associate  \n",
    "\\begin{align}\n",
    "   \\|\\tilde{\\varphi}_1\\|_A  \\|\\tilde{\\varphi}_2\\|_A \\hat{\\varphi}_1^{A,\\dagger}  \\hat{\\varphi}_2^{A,\\dagger}  \\hat{\\varphi}_3^{B,\\dagger}\\ket{0} \\equiv \\lambda_2 \\ket{A_2} \\otimes \\ket{B_2}  \n",
    "\\end{align}"
   ]
  },
  {
   "cell_type": "markdown",
   "metadata": {},
   "source": [
    " We can then proceed by associating the other states in a similar manner. Since $\\|\\tilde{\\varphi}_1\\|_A  \\|\\tilde{\\varphi}_2\\|_B =0.89919=\\lambda_1 $"
   ]
  },
  {
   "cell_type": "code",
   "execution_count": 36,
   "metadata": {},
   "outputs": [
    {
     "name": "stdout",
     "output_type": "stream",
     "text": [
      "0.89919\n"
     ]
    }
   ],
   "source": [
    "print(np.around(normphi1tildeA*normphi2tildeB,5))"
   ]
  },
  {
   "cell_type": "code",
   "execution_count": 37,
   "metadata": {},
   "outputs": [
    {
     "name": "stdout",
     "output_type": "stream",
     "text": [
      "0.89919\n"
     ]
    }
   ],
   "source": [
    "print(np.around(l[0],5))"
   ]
  },
  {
   "cell_type": "markdown",
   "metadata": {},
   "source": [
    "\\begin{align}\n",
    "    \\hat{\\varphi}_1^{A,\\dagger}  \\ket{0} &= \\left(-0.77677 \\hat{c}^{\\dagger}_1-0.62978   \\hat{c}^{\\dagger}_2 \\right) \\ket{0}\\nonumber\\\\\n",
    "      & \\equiv \\ket{A_1}\n",
    "\\end{align}"
   ]
  },
  {
   "cell_type": "code",
   "execution_count": 38,
   "metadata": {},
   "outputs": [
    {
     "name": "stdout",
     "output_type": "stream",
     "text": [
      "[-0.77677 -0.62978]\n"
     ]
    }
   ],
   "source": [
    "print(phi1tildeA)"
   ]
  },
  {
   "cell_type": "markdown",
   "metadata": {},
   "source": [
    "and \n",
    "\\begin{align*}\n",
    "    \\hat{\\varphi}_2^{B,\\dagger}  \\hat{\\varphi}_3^{B,\\dagger} \\ket{0}&= \\underbrace{\\left( \\varphi^{B}_{2}(3)\\varphi^B_{3}(4) - \\varphi^B_{2}(4)\\varphi^B_{3}(3)\\right)}_{=-0.542834} \\hat{c}^{\\dagger}_3 \\hat{c}^{\\dagger}_4 \\ket{0}\\nonumber\\\\\n",
    "     &+\\underbrace{\\left( \\varphi^{B}_{2}(3)\\varphi^B_{3}(5) - \\varphi^B_{2}(5)\\varphi^B_{3}(3)\\right)}_{=-0.708115} \\hat{c}^{\\dagger}_3  \\hat{c}^{\\dagger}_5 \\ket{0}\\nonumber\\\\\n",
    "    &+\\underbrace{\\left( \\varphi^{B}_{2}(4)\\varphi^B_{3}(5) - \\varphi^B_{2}(5)\\varphi^B_{3}(4)\\right)}_{=-0.451557}\\hat{c}^{\\dagger}_4  \\hat{c}^{\\dagger}_5\\ket{0}\\nonumber\\\\\n",
    "    &\\equiv \\ket{B_1}.\n",
    "\\end{align*}"
   ]
  },
  {
   "cell_type": "code",
   "execution_count": 39,
   "metadata": {},
   "outputs": [
    {
     "name": "stdout",
     "output_type": "stream",
     "text": [
      "-0.54283\n"
     ]
    }
   ],
   "source": [
    "n_imp=2\n",
    "print(np.around(phi2tildeB[2-n_imp]*phi3tilde[3]-phi2tildeB[3-n_imp]*phi3tilde[2],5)) #here we subtract with n_imp because \n",
    "#we have stored phi2tilde as a 3 dimensional vector and not as a 5 thus the index 0 1 2 corresponds to sites 3 4 5"
   ]
  },
  {
   "cell_type": "code",
   "execution_count": 40,
   "metadata": {},
   "outputs": [
    {
     "name": "stdout",
     "output_type": "stream",
     "text": [
      "-0.70812\n"
     ]
    }
   ],
   "source": [
    "print(np.around(phi2tildeB[2-n_imp]*phi3tilde[4]-phi2tildeB[4-n_imp]*phi3tilde[2],5)) "
   ]
  },
  {
   "cell_type": "code",
   "execution_count": 41,
   "metadata": {},
   "outputs": [
    {
     "name": "stdout",
     "output_type": "stream",
     "text": [
      "-0.45156\n"
     ]
    }
   ],
   "source": [
    "print(np.around(phi2tildeB[3-n_imp]*phi3tilde[4]-phi2tildeB[4-n_imp]*phi3tilde[3],5)) "
   ]
  },
  {
   "cell_type": "markdown",
   "metadata": {},
   "source": [
    "Thus we have verified that $\\|\\tilde{\\varphi}_1\\|_A  \\|\\tilde{\\varphi}_2\\|_B \n",
    "\\hat{\\varphi}_1^{A,\\dagger}  \\hat{\\varphi}_2^{B,\\dagger}  \\hat{\\varphi}_3^{B,\\dagger} \\ket{0} \\equiv \\lambda_1 \\ket{A_1}\\otimes \\ket{B_1}$."
   ]
  },
  {
   "cell_type": "markdown",
   "metadata": {},
   "source": [
    "Further, since $\\|\\tilde{\\varphi}_1\\|_B  \\|\\tilde{\\varphi}_2\\|_A =0.04955=\\lambda_4 $, \n"
   ]
  },
  {
   "cell_type": "code",
   "execution_count": 42,
   "metadata": {},
   "outputs": [
    {
     "name": "stdout",
     "output_type": "stream",
     "text": [
      "0.04955\n"
     ]
    }
   ],
   "source": [
    "print(np.around(normphi1tildeB*normphi2tildeA,5))"
   ]
  },
  {
   "cell_type": "code",
   "execution_count": 43,
   "metadata": {},
   "outputs": [
    {
     "name": "stdout",
     "output_type": "stream",
     "text": [
      "0.04955\n"
     ]
    }
   ],
   "source": [
    "print(np.around(l[3],5))"
   ]
  },
  {
   "cell_type": "markdown",
   "metadata": {},
   "source": [
    "\\begin{align}\n",
    "    \\hat{\\varphi}_2^{A,\\dagger} \\ket{0} = \\left(-0.629778 \\hat{c}^{\\dagger}_1+0.776775 \\hat{c}^{\\dagger}_2  \\right)\\ket{0} \\equiv \\ket{A_4}\n",
    "\\end{align} "
   ]
  },
  {
   "cell_type": "code",
   "execution_count": 44,
   "metadata": {},
   "outputs": [
    {
     "name": "stdout",
     "output_type": "stream",
     "text": [
      "[-0.62978  0.77677]\n"
     ]
    }
   ],
   "source": [
    "print(phi2tildeA)"
   ]
  },
  {
   "cell_type": "markdown",
   "metadata": {},
   "source": [
    "and \n",
    "\\begin{align*}\n",
    "    \\hat{\\varphi}_1^{B,\\dagger}  \\hat{\\varphi}_3^{B,\\dagger} \\ket{0}&= \\underbrace{\\left( \\varphi^{B}_{1}(3)\\varphi^B_{3}(4) - \\varphi^B_{1}(4)\\varphi^B_{3}(3)\\right)}_{=0.486541} \\hat{c}^{\\dagger}_3 \\hat{c}^{\\dagger}_4 \\ket{0}\\nonumber\\\\\n",
    "     &+\\underbrace{\\left( \\varphi^{B}_{1}(3)\\varphi^B_{3}(5) - \\varphi^B_{1}(5)\\varphi^B_{3}(3)\\right)}_{=0.173099} \\hat{c}^{\\dagger}_3  \\hat{c}^{\\dagger}_5 \\ket{0}\\nonumber\\\\\n",
    "    &+\\underbrace{\\left( \\varphi^{B}_{1}(4)\\varphi^B_{3}(5) - \\varphi^B_{1}(5)\\varphi^B_{3}(4)\\right)}_{=-0.856338}\\hat{c}^{\\dagger}_4  \\hat{c}^{\\dagger}_5\\ket{0}\\nonumber\\\\\n",
    "    &\\equiv -\\ket{B_4},\n",
    "\\end{align*} \n"
   ]
  },
  {
   "cell_type": "code",
   "execution_count": 45,
   "metadata": {},
   "outputs": [
    {
     "name": "stdout",
     "output_type": "stream",
     "text": [
      "0.48654\n"
     ]
    }
   ],
   "source": [
    "print(np.around(phi1tildeB[2-n_imp]*phi3tilde[3]-phi1tildeB[3-n_imp]*phi3tilde[2],5)) "
   ]
  },
  {
   "cell_type": "code",
   "execution_count": 46,
   "metadata": {},
   "outputs": [
    {
     "name": "stdout",
     "output_type": "stream",
     "text": [
      "0.1731\n"
     ]
    }
   ],
   "source": [
    "print(np.around(phi1tildeB[2-n_imp]*phi3tilde[4]-phi1tildeB[4-n_imp]*phi3tilde[2],5)) "
   ]
  },
  {
   "cell_type": "code",
   "execution_count": 47,
   "metadata": {},
   "outputs": [
    {
     "name": "stdout",
     "output_type": "stream",
     "text": [
      "-0.85634\n"
     ]
    }
   ],
   "source": [
    "print(np.around(phi1tildeB[3-n_imp]*phi3tilde[4]-phi1tildeB[4-n_imp]*phi3tilde[3],5)) "
   ]
  },
  {
   "cell_type": "markdown",
   "metadata": {},
   "source": [
    "We have now associated one more term: $\\|\\tilde{\\varphi}_1\\|_B  \\|\\tilde{\\varphi}_2\\|_A \n",
    "\\hat{\\varphi}_1^{B,\\dagger}  \\hat{\\varphi}_2^{A,\\dagger}  \\hat{\\varphi}_3^{B,\\dagger} \\ket{0} \\equiv \\lambda_4 \\ket{A_4}\\otimes \\ket{B_4}$."
   ]
  },
  {
   "cell_type": "markdown",
   "metadata": {},
   "source": [
    "Finally, since $\\|\\tilde{\\varphi}_1\\|_B \\|\\tilde{\\varphi}_2\\|_B =0.10566=\\lambda_3 $,"
   ]
  },
  {
   "cell_type": "code",
   "execution_count": 48,
   "metadata": {},
   "outputs": [
    {
     "name": "stdout",
     "output_type": "stream",
     "text": [
      "0.10566\n"
     ]
    }
   ],
   "source": [
    "print(np.around(normphi1tildeB*normphi2tildeB,5))"
   ]
  },
  {
   "cell_type": "code",
   "execution_count": 49,
   "metadata": {},
   "outputs": [
    {
     "name": "stdout",
     "output_type": "stream",
     "text": [
      "0.10566\n"
     ]
    }
   ],
   "source": [
    "print(np.around(l[2],5))"
   ]
  },
  {
   "cell_type": "markdown",
   "metadata": {},
   "source": [
    "\\begin{align}\n",
    "    \\ket{0} \\equiv -\\ket{A_3}\n",
    "\\end{align} \n",
    "and \n",
    "\\begin{align*}\n",
    "    \\hat{\\varphi}_1^{B,\\dagger}  \\hat{\\varphi}_2^{B,\\dagger} \\hat{\\varphi}_3^{B,\\dagger} \\ket{0}&= \\underbrace{\\textrm{det}\\begin{vmatrix}\n",
    "\\varphi^{B}_{1}(3) & \\varphi^{B}_{1}(4) & \\varphi^{B}_{1}(5)\\\\\n",
    "\\varphi^{B}_{2}(3) & \\varphi^{B}_2(4) & \\varphi^{B}_{2}(5)\\\\\n",
    "\\varphi^{B}_{3}(3) & \\varphi^{B}_3(4) & \\varphi^{B}_{3}(5)\\\\\n",
    "\\end{vmatrix}}_{=1}\\hat{c}^{\\dagger}_3 \\hat{c}^{\\dagger}_4 \\hat{c}^{\\dagger}_5 \\ket{0}\\\\\n",
    "    &\\equiv \\ket{B_3},\n",
    "\\end{align*} "
   ]
  },
  {
   "cell_type": "code",
   "execution_count": 50,
   "metadata": {},
   "outputs": [
    {
     "data": {
      "text/plain": [
       "1.0"
      ]
     },
     "execution_count": 50,
     "metadata": {},
     "output_type": "execute_result"
    }
   ],
   "source": [
    "LA.det([phi1tildeB,phi2tildeB,phi3tilde[2:5]])"
   ]
  },
  {
   "cell_type": "markdown",
   "metadata": {},
   "source": [
    "we have $\\|\\tilde{\\varphi}_1\\|_B  \\|\\tilde{\\varphi}_2\\|_B \n",
    "\\hat{\\varphi}_1^{B,\\dagger}  \\hat{\\varphi}_2^{B,\\dagger}  \\hat{\\varphi}_3^{B,\\dagger} \\ket{0} \\equiv \\lambda_3 \\ket{A_3}\\otimes \\ket{B_3}$.\n",
    "Thus we have explicitly verified that performing the SVD in the orbital coefficient matrix with a subsequent division in impurity and environment orbitals is equivalent to performing the SVD in the connecting matrix in the Fock-space representation."
   ]
  },
  {
   "cell_type": "markdown",
   "metadata": {},
   "source": [
    "# 3. The different constructions of the exact embedded system"
   ]
  },
  {
   "cell_type": "markdown",
   "metadata": {},
   "source": [
    "The Fock-space projection reads \n",
    "\\begin{eqnarray}\n",
    "\\hat{P} &= \\sum_{\\alpha=1}^{4}\\sum_{\\beta=1}^{4}\\ket{A_{\\alpha}}\\otimes\\ket{B_{\\beta}}\\bra{A_{\\alpha}}\\otimes\\bra{B_{\\beta}}\n",
    "\\end{eqnarray}\n",
    "\n",
    "In this projection appear different terms that project to subspaces with a different number of particles. Since the Hamiltonian is particle-number conserving, contributions like $\\braket{\\varphi_1^{A} \\varphi_2^{B} \\varphi^{B}_3}{\\hat{H} \\varphi_1^{A} \\varphi_3^B}$ are zero, yet we still have non-zero contributions within different particle-number subspaces. If we do not restrict at this point to only the three-particle subspace, a minimization of the projected Hamiltonian will lead to a different ground state with different number of particles. In this approach we therefore have to restrict by hand to those states such that the \\textit{correct projector} becomes\n",
    "\\begin{eqnarray}\n",
    "\\label{eq:Proj_Fock_1}\n",
    "\\hat{P}'&= \\ket{A_1} \\otimes  \\ket{B_1} \\bra{B_1}\\otimes \\bra{A_1}\\nonumber\\\\\n",
    " &+\\ket{A_2} \\otimes  \\ket{B_2} \\bra{B_2}\\otimes \\bra{A_2}\\nonumber\\\\\n",
    "  &+\\ket{A_3} \\otimes  \\ket{B_3} \\bra{B_3}\\otimes \\bra{A_3}\\nonumber\\\\\n",
    "  &+ \\ket{A_4} \\otimes  \\ket{B_4} \\bra{B_4}\\otimes \\bra{A_4}\\nonumber\\\\\n",
    "   &+ \\ket{A_1} \\otimes  \\ket{B_4} \\bra{B_4}\\otimes \\bra{A_1}\\nonumber\\\\\n",
    "&+\\ket{A_4} \\otimes  \\ket{B_1} \\bra{B_1}\\otimes \\bra{A_4}\n",
    "\\end{eqnarray}\n",
    "This yields a $6\\times6$ Hamiltonian matrix $\\hat{P}' \\hat{H} \\hat{P}'$ (see the jupyter notebook for the explicit matrix). Diagonalizing provides its lowest eigenvalue as $E=-\\sqrt{3}-1$ with the eigenstate $\\Phi=-0.89919 \\ket{A_1}\\otimes \\ket{B_1} -0.42170\\ket{A_2} \\otimes\\ket{B_2}  -0.10566 \\ket{A_3}\\otimes \\ket{B_3} -0.04955 \\ket{A_4}\\otimes\\ket{B_4}$. Alternatively we could have also restricted the projection further to only the states $\\ket{A_{\\alpha}}\\otimes \\ket{B_{\\alpha}}$ with $\\alpha \\in \\{1,2,3,4\\}$ (leading to a $4\\times4$ Hamiltonian) and would have found the same ground state."
   ]
  },
  {
   "cell_type": "markdown",
   "metadata": {},
   "source": [
    "# b.Exact embedded Hamiltonian via the single-particle projection"
   ]
  },
  {
   "cell_type": "markdown",
   "metadata": {},
   "source": [
    "Since the above projection needs to be further restricted by hand to only the right particle sector, it is advantageous if one can directly construct the correct projector without further filtering. This can be done for non-interacting systems on the single-particle level. Since one uses in practice always a non-interacting projection the following is the standard way in DMET to construct the embedded system. \n",
    "\n",
    "We start from the non-interacting Hamiltonian of the full system, and construct the non-interacting 1RDM in the site basis from the three lowest energy orbitals (which are the ones that form the Slater determinant $\\Phi$). This will be a $5 \\times 5$ (the number of sites) matrix\n",
    "\\begin{align*}\n",
    "    \\gamma(i,j)=\\langle \\Phi|\\hat{c}^{\\dagger}_j \\hat{c}_i|\\Phi\\rangle=\\sum_{\\mu=1}^3 C^{T}_{j \\mu} C_{i \\mu} \n",
    "\\end{align*}"
   ]
  },
  {
   "cell_type": "code",
   "execution_count": 51,
   "metadata": {},
   "outputs": [],
   "source": [
    "gamma=np.zeros((5,5))"
   ]
  },
  {
   "cell_type": "code",
   "execution_count": 52,
   "metadata": {},
   "outputs": [
    {
     "name": "stdout",
     "output_type": "stream",
     "text": [
      "[[ 0.66667  0.39434 -0.16667 -0.10566  0.16667]\n",
      " [ 0.39434  0.5      0.28868 -0.      -0.10566]\n",
      " [-0.16667  0.28868  0.66667  0.28868 -0.16667]\n",
      " [-0.10566 -0.       0.28868  0.5      0.39434]\n",
      " [ 0.16667 -0.10566 -0.16667  0.39434  0.66667]]\n"
     ]
    }
   ],
   "source": [
    "gamma=np.dot(C,C.transpose())\n",
    "print(gamma)"
   ]
  },
  {
   "cell_type": "markdown",
   "metadata": {},
   "source": [
    "As this is a non-interacting 1RDM its eigenvalues are 1 or 0. Next we consider a submatrix of this 1RDM which consists only of the sites that belong to the bath $B$. For our example this is the matrix defined above with $i,j \\in B \\equiv \\{3,4,5\\}$ \n",
    "\\begin{align}\n",
    "    \\gamma_{\\textrm{env}}(i,j)= \\sum_{\\mu=1}^3 C^{T}_{j\\mu} C_{i\\mu} \\textrm{  with  } i,j \\in B\n",
    "\\end{align}"
   ]
  },
  {
   "cell_type": "code",
   "execution_count": 53,
   "metadata": {},
   "outputs": [
    {
     "name": "stdout",
     "output_type": "stream",
     "text": [
      "[[ 0.66667  0.28868 -0.16667]\n",
      " [ 0.28868  0.5      0.39434]\n",
      " [-0.16667  0.39434  0.66667]]\n"
     ]
    }
   ],
   "source": [
    "gamma_env=gamma[2:5,2:5]\n",
    "print(gamma_env)"
   ]
  },
  {
   "cell_type": "markdown",
   "metadata": {},
   "source": [
    "Diagonalizing this $3\\times3$ submatrix gives \n",
    "\\begin{align*}\n",
    "    n_1&=0.01362 \\equiv \\|\\tilde{\\varphi}_1\\|_B \\nonumber\\\\\n",
    "   \\varphi_1^{B}&= -0.45156 \\ket{3} +0.70812\\ket{4}-0.54283\\ket{5}\\\\\n",
    "    n_2&=0.81971 \\equiv \\|\\tilde{\\varphi}_2\\|_B \\nonumber\\\\\n",
    "    \\varphi^{B}_2&= 0.85634\\ket{3}+  0.17310\\ket{4}-0.48654\\ket{5}\\\\\n",
    "    n_3&=1 \\equiv \\|\\tilde{\\varphi}_3\\|_B\\nonumber\\\\\n",
    "   \\varphi^{B}_3&= 0.25056\\ket{3}+ 0.68455 \\ket{4}+0.68455\\ket{5}\n",
    "\\end{align*}"
   ]
  },
  {
   "cell_type": "code",
   "execution_count": 54,
   "metadata": {},
   "outputs": [
    {
     "name": "stdout",
     "output_type": "stream",
     "text": [
      "[0.01362 0.81971 1.     ]\n"
     ]
    }
   ],
   "source": [
    "n, phiB = LA.eigh(gamma_env)\n",
    "print(n)"
   ]
  },
  {
   "cell_type": "code",
   "execution_count": 55,
   "metadata": {},
   "outputs": [
    {
     "name": "stdout",
     "output_type": "stream",
     "text": [
      "[array([[-0.45156,  0.85634,  0.25056],\n",
      "       [ 0.70812,  0.1731 ,  0.68455],\n",
      "       [-0.54283, -0.48654,  0.68455]])]\n"
     ]
    }
   ],
   "source": [
    "print([phiB]) #prints the eigenvectors of gamma_env in columns"
   ]
  },
  {
   "cell_type": "markdown",
   "metadata": {},
   "source": [
    "where we have introduced the notation $\\hat{c}_i^{\\dagger}\\ket{0}=\\ket{i}$.\n",
    "The orbital $\\varphi^{B}_3$ with occupation number $1$ is called in the DMET literature \\textit{unentangled occupied environmental orbital}. It agrees with $\\tilde{\\varphi}_3 \\equiv \\varphi_{3}^{B}$. The two orbitals that have eigenvalues (occupations) between $0$ and $1$ are called the \\textit{bath orbitals} and agree with the corresponding ones calculated by the SVD.\n",
    "\n",
    "\n",
    "Since they have zero contribution on the impurity $A \\equiv \\{1,2\\}$ we need two further states (the size of the impurity) that are non-zero only on the impurity to express a $5 \\times 5$ matrix. While we could use $\\varphi_1^{A}$ and $\\varphi_2^A$, we can equivalently use\n",
    "\\begin{align*}\n",
    "    \\varphi^{A}_1&= \\ket{1},\\\\\n",
    "    \\varphi^{A}_2&= \\ket{2}.\n",
    "\\end{align*}\n"
   ]
  },
  {
   "cell_type": "code",
   "execution_count": 56,
   "metadata": {},
   "outputs": [],
   "source": [
    "C_CAS=np.zeros((5,4))\n",
    "phiA=np.zeros((2,2))               \n",
    "phiA[0]=[1,0]\n",
    "phiA[1]=[0,1]"
   ]
  },
  {
   "cell_type": "markdown",
   "metadata": {},
   "source": [
    "Discarding the unentangled occupied environmental orbital $\\varphi_3^{B}$ that constitutes the vacuum state $\\ket{\\tilde{0}} = \\hat{\\varphi}^{B,\\dagger}_3 \\ket{0}$ of the Fock space $\\mathcal{E}$ we are left with the 4 orbitals of the complete active space (CAS), i.e., $\\varphi_1^{\\textrm{CAS}} = \\varphi_1^{A}$, $\\varphi_2^{\\textrm{CAS}} = \\varphi_2^{A}$, $\\varphi_3^{\\textrm{CAS}} = \\varphi_1^{B}$ and $\\varphi_4^{\\textrm{CAS}} = \\varphi_2^{B}$. The corresponding $5 \\times 4$ CAS matrix $C^{\\textrm{CAS}}_{k \\mu} \\equiv \\varphi^{\\textrm{CAS}}_{\\mu}(k)$ takes the form "
   ]
  },
  {
   "cell_type": "code",
   "execution_count": 57,
   "metadata": {},
   "outputs": [
    {
     "name": "stdout",
     "output_type": "stream",
     "text": [
      "[[ 1.       0.       0.       0.     ]\n",
      " [ 0.       1.       0.       0.     ]\n",
      " [ 0.       0.      -0.45156  0.85634]\n",
      " [ 0.       0.       0.70812  0.1731 ]\n",
      " [ 0.       0.      -0.54283 -0.48654]]\n"
     ]
    }
   ],
   "source": [
    "C_CAS[0:2,0]=phiA[0]\n",
    "C_CAS[0:2,1]=phiA[1]\n",
    "C_CAS[2:5,2]=phiB[:,0]\n",
    "C_CAS[2:5,3]=phiB[:,1]\n",
    "print(C_CAS)"
   ]
  },
  {
   "cell_type": "markdown",
   "metadata": {},
   "source": [
    "With this the embedded single-particle Hamiltonian becomes\n",
    "\\begin{align}\n",
    "\\label{eq:hs_embed}\n",
    "\\mathbf{h'_s}&=[\\mathbf{C}^{\\textrm{CAS}}]^T \\mathbf{h_s} \\mathbf{C}^{\\textrm{CAS}} \\\\ \\nonumber\n",
    "&=\\left(\n",
    "\\begin{array}{cccc}\n",
    "0.0 &-1.0 &0.0& 0.0\\\\\n",
    "-1.0& 0.0 &0.45156& -0.856338\\\\\n",
    "0.0& 0.45156 & 1.40829 & -0.08973\\\\\n",
    "0.0& -0.85634 & -0.08973 & -0.12802\\\\\n",
    "\\end{array}\n",
    "\\right)\n",
    "\\end{align}"
   ]
  },
  {
   "cell_type": "code",
   "execution_count": 58,
   "metadata": {},
   "outputs": [
    {
     "name": "stdout",
     "output_type": "stream",
     "text": [
      "[[ 0.      -1.       0.       0.     ]\n",
      " [-1.       0.       0.45156 -0.85634]\n",
      " [ 0.       0.45156  1.40829 -0.08973]\n",
      " [ 0.      -0.85634 -0.08973 -0.12802]]\n"
     ]
    }
   ],
   "source": [
    "h_s_prime=np.zeros((4,4))\n",
    "h_s_prime=multi_dot([C_CAS.transpose(),h,C_CAS])\n",
    "\n",
    "print(h_s_prime)"
   ]
  },
  {
   "cell_type": "markdown",
   "metadata": {},
   "source": [
    "The eigenvalues $\\epsilon_i$ and the eigenvactors $\\varphi'_i$ of the embedded hamiltonian $\\mathbf{h'_s}$ read:\n",
    "\\begin{align*}\n",
    "\\epsilon'_1&=-1.37256\\\\\\nonumber\n",
    "\\varphi'_1&=-0.51387\\varphi^{\\textrm{CAS}}_1\n",
    "-0.70532\\varphi^{\\textrm{CAS}}_2\\nonumber\\\\\n",
    "&+0.09910\\varphi^{\\textrm{CAS}}_3 -0.47817\\varphi^{\\textrm{CAS}}_4\n",
    "\\end{align*}\n",
    "\\begin{align*}\n",
    "\\epsilon'_2&=-0.07922\\nonumber\\\\\n",
    "\\varphi'_2&= 0.63451\\varphi^{\\textrm{CAS}}_1 +0.05027\\varphi^{\\textrm{CAS}}_2  \\nonumber\\\\\n",
    "&-0.06164\\varphi^{\\textrm{CAS}}_3  -0.76881 \\varphi^{\\textrm{CAS}}_4\n",
    "\\end{align*}\n",
    "\\begin{align*}\n",
    "\\epsilon'_3&=1.0\\nonumber\\\\\n",
    "\\varphi'_3&= -0.5 \\varphi^{\\textrm{CAS}}_1    +0.5   \\varphi^{\\textrm{CAS}}_2 \\nonumber\\\\\n",
    "&-0.62547\\varphi^{\\textrm{CAS}}_3   -0.32982\\varphi^{\\textrm{CAS}}_4\n",
    "\\end{align*}\n",
    "\\begin{align*}\n",
    "\\epsilon'_4&=1.73205\\nonumber\\\\\n",
    "\\varphi'_4&=-0.28868\\varphi^{\\textrm{CAS}}_1+ 0.5 \\varphi^{\\textrm{CAS}}_2      \\nonumber\\\\\n",
    "&+0.77147\\varphi^{\\textrm{CAS}}_3 -0.26741\\varphi^{\\textrm{CAS}}_4\n",
    "\\end{align*}"
   ]
  },
  {
   "cell_type": "code",
   "execution_count": 59,
   "metadata": {},
   "outputs": [
    {
     "name": "stdout",
     "output_type": "stream",
     "text": [
      "[-1.37256 -0.07922  1.       1.73205]\n",
      "[[ 0.51387  0.63451 -0.5     -0.28868]\n",
      " [ 0.70532  0.05027  0.5      0.5    ]\n",
      " [-0.0991  -0.06164 -0.62547  0.77147]\n",
      " [ 0.47817 -0.76881 -0.32982 -0.26741]]\n"
     ]
    }
   ],
   "source": [
    "e_prime, phi_prime=LA.eigh(h_s_prime)\n",
    "print(e_prime)\n",
    "print(phi_prime)"
   ]
  },
  {
   "cell_type": "markdown",
   "metadata": {},
   "source": [
    "Lifting the single-particle Hamiltonian to the Fock-space $\\mathcal{E}$ we have\n",
    "\n",
    "\\begin{align}\n",
    "\\hat{H^{'}}= \\sum_{\\tilde{k}=1}^{4}\\sum_{\\tilde{k}'=1}^{4} h^{'}_{s}(\\tilde{k}, \\tilde{k}^{'}) \n",
    "\\hat{\\varphi}^{\\mathrm{CAS}, \\dagger}_{\\tilde{k}} \\hat{\\varphi}^{\\textrm{CAS}}_{\\tilde{k}^{'}} + \\frac{\\Delta \\epsilon}{2} \\sum_{\\tilde{k}=1}^{4} \\hat{\\varphi}^{\\mathrm{CAS}, \\dagger}_{\\tilde{k}} \\hat{\\varphi}^{\\mathrm{CAS}}_{\\tilde{k}}\\\\\n",
    "= \\sum_{\\mu=1}^{4} \\epsilon^{'}_\\mu{\\hat{\\varphi}}_{\\mu}^{'\\dagger}\\hat{\\varphi}^{'}_{\\mu} + \\frac{\\Delta \\epsilon}{2} \\sum_{\\mu=1}^{4} \\hat{\\varphi}^{\\dagger}_{\\mu} \\hat{\\varphi}^{'}_{\\mu}\n",
    "\\end{align}\n",
    "\n",
    "Because we have discarded the unentangled occupied environmental orbital the sought-after ground state is given by the lowest two-particle eigenstate of $\\hat{H}'$ which leads to $E'=\\epsilon_1' + \\epsilon_2'=-1.45179$ "
   ]
  },
  {
   "cell_type": "code",
   "execution_count": 60,
   "metadata": {},
   "outputs": [
    {
     "name": "stdout",
     "output_type": "stream",
     "text": [
      "-1.45179\n"
     ]
    }
   ],
   "source": [
    "E_prime=e_prime[0]+e_prime[1]\n",
    "print(np.around(E_prime,5))"
   ]
  },
  {
   "cell_type": "markdown",
   "metadata": {},
   "source": [
    "Because in our case $\\Delta \\epsilon = \\langle\\tilde{0}|\\hat{H}| \\tilde{0}\\rangle = E-E'=-1.28026$."
   ]
  },
  {
   "cell_type": "code",
   "execution_count": 61,
   "metadata": {},
   "outputs": [
    {
     "name": "stdout",
     "output_type": "stream",
     "text": [
      "-1.28026\n"
     ]
    }
   ],
   "source": [
    "e_dprime=np.zeros((4,4))\n",
    "e_dprime=e_prime+(E-E_prime)/2\n",
    "print(np.around(E-E_prime,5))"
   ]
  },
  {
   "cell_type": "markdown",
   "metadata": {},
   "source": [
    "Here we verify that we have build indeed: $\\sum_{\\tilde{k}=1}^{4}\\sum_{\\tilde{k}'=1}^{4} h^{'}_{s}(\\tilde{k}, \\tilde{k}^{'}) \n",
    "\\hat{\\varphi}^{\\mathrm{CAS}, \\dagger}_{\\tilde{k}} \\hat{\\varphi}^{\\textrm{CAS}}_{\\tilde{k}^{'}} + \\frac{\\Delta \\epsilon}{2} \\sum_{\\tilde{k}=1}^{4} \\hat{\\varphi}^{\\mathrm{CAS}, \\dagger}_{\\tilde{k}} \\hat{\\varphi}^{\\mathrm{CAS}}_{\\tilde{k}}\n",
    "= \\sum_{\\mu=1}^{4} \\epsilon^{'}_\\mu{\\hat{\\varphi}}_{\\mu}^{'\\dagger}\\hat{\\varphi}^{'}_{\\mu} + \\frac{\\Delta \\epsilon}{2} \\sum_{\\mu=1}^{4} \\hat{\\varphi}^{\\dagger}_{\\mu} \\hat{\\varphi}^{'}_{\\mu}$."
   ]
  },
  {
   "cell_type": "code",
   "execution_count": 62,
   "metadata": {},
   "outputs": [
    {
     "name": "stdout",
     "output_type": "stream",
     "text": [
      "[[-0.64013 -1.       0.       0.     ]\n",
      " [-1.      -0.64013  0.45156 -0.85634]\n",
      " [ 0.       0.45156  0.76816 -0.08973]\n",
      " [ 0.      -0.85634 -0.08973 -0.76816]]\n",
      "[[-0.64013 -1.       0.       0.     ]\n",
      " [-1.      -0.64013  0.45156 -0.85634]\n",
      " [ 0.       0.45156  0.76816 -0.08973]\n",
      " [ 0.      -0.85634 -0.08973 -0.76816]]\n"
     ]
    }
   ],
   "source": [
    "h_prime=np.zeros((4,4))\n",
    "h_prime=multi_dot([phi_prime,np.diag(e_dprime),phi_prime.transpose()])\n",
    "print(h_prime)\n",
    "\n",
    "h_CAS_prime=np.zeros((4,4))\n",
    "h_CAS_prime=multi_dot([C_CAS.transpose(),h,C_CAS])+(E-E_prime)/2*multi_dot([C_CAS.transpose(),C_CAS])\n",
    "print(h_CAS_prime)"
   ]
  },
  {
   "cell_type": "markdown",
   "metadata": {},
   "source": [
    "The two lowest eigenvalues of $\\hat{H}^{'}$ give us indeed the two total energy of the original system."
   ]
  },
  {
   "cell_type": "code",
   "execution_count": 63,
   "metadata": {},
   "outputs": [
    {
     "name": "stdout",
     "output_type": "stream",
     "text": [
      "-2.73205\n"
     ]
    }
   ],
   "source": [
    "e_CAS_prime, phi_CAS_prime=LA.eigh(h_CAS_prime)\n",
    "print(np.around(e_CAS_prime[0]+e_CAS_prime[1],5))"
   ]
  },
  {
   "cell_type": "markdown",
   "metadata": {},
   "source": [
    "Let us look more closely at the two eigenstates of $\\hat{H}^{'}$,\n",
    "$\\ket{\\Phi'}=\\hat{\\varphi'}^{\\dagger}_1\\hat{\\varphi'}^{\\dagger}_2\\ket{0}$. \n",
    "It is useful to transform  the orbitals on the original site basis\n",
    "\\begin{align*}\n",
    "\\varphi'_1&=0.51387 \\ket{1}+0.70532\\ket{2}+\\nonumber\\\\\n",
    "&+0.45422\\ket{3}+0.01260\\ket{4}-0.17885\\ket{5},\n",
    "\\end{align*}\n",
    "\\begin{align*}\n",
    "\\varphi'_2&= 0.63451\\ket{1}  + 0.05027\\ket{2}+ \\nonumber\\\\\n",
    "&-0.63053\\ket{3} \n",
    " -0.17673\\ket{4}  \n",
    " +0.40752 \\ket{5}.\n",
    "\\end{align*}"
   ]
  },
  {
   "cell_type": "code",
   "execution_count": 110,
   "metadata": {},
   "outputs": [
    {
     "name": "stdout",
     "output_type": "stream",
     "text": [
      "[ 0.51387  0.70532 -0.0991   0.47817]\n",
      "[ 0.63451  0.05027 -0.06164 -0.76881]\n"
     ]
    }
   ],
   "source": [
    "print(phi_prime[:,0]) # printed in rows\n",
    "print(phi_prime[:,1])"
   ]
  },
  {
   "cell_type": "markdown",
   "metadata": {},
   "source": [
    "If we again disregard the unentangled occupied environmental orbital then the resulting Slater determinant is\n",
    "\\begin{align}\n",
    "    \\tilde{\\Phi}'(k,l) = \\frac{1}{\\sqrt{2}}\\left(\\varphi'_1(k)\\varphi'_2(l) - \\varphi'_1(l)\\varphi'_2(k)  \\right),\n",
    "\\end{align}\n",
    "which agrees for $k,l \\in A \\equiv \\{1,2\\}$ with Eq.~\\eqref{eq:distinguishablebasisPhi}. The only non-trivial term is $\\tilde{\\Phi}'(1,2) = -0.298187 = \\sum_{k=3}^{5}\\tilde{\\Phi}(1,2,k)$ "
   ]
  },
  {
   "cell_type": "code",
   "execution_count": 136,
   "metadata": {},
   "outputs": [
    {
     "name": "stdout",
     "output_type": "stream",
     "text": [
      "-0.29818720323925435\n",
      "0.6830127018922199\n"
     ]
    }
   ],
   "source": [
    "print(2**(-0.5)*LA.det(np.matrix([phi_prime[0:2,0],phi_prime[0:2,1]])))\n",
    "print(Phi1prime+Phi2prime+Phi3prime)"
   ]
  },
  {
   "cell_type": "code",
   "execution_count": 330,
   "metadata": {},
   "outputs": [
    {
     "name": "stdout",
     "output_type": "stream",
     "text": [
      "[[-5.13869483e-01  6.34511483e-01 -5.00000000e-01 -2.88675135e-01]\n",
      " [-7.05317669e-01  5.02691322e-02  5.00000000e-01  5.00000000e-01]\n",
      " [-4.54222672e-01 -6.30528914e-01  3.51768800e-16 -5.77350269e-01]\n",
      " [-1.25955749e-02 -1.76726375e-01 -5.00000000e-01  5.00000000e-01]\n",
      " [ 1.78852612e-01  4.07515975e-01  5.00000000e-01 -2.88675135e-01]]\n"
     ]
    }
   ],
   "source": [
    "#Phi_new_CAS_prime=np.transpose(np.dot(np.transpose(phi_prime),np.transpose(C_CAS)))\n",
    "\n",
    "Phi_new_CAS_prime=np.dot(C_CAS,phi_prime)\n",
    "print(Phi_new_CAS_prime)"
   ]
  },
  {
   "cell_type": "markdown",
   "metadata": {},
   "source": [
    "One can observe at this point that the lowest eigenvectors of our embedded Hamiltonian $\\varphi_1'$ and $\\varphi_2'$ are not identical to the orbitals of the original Hamiltonian. However, putting back the third orbital that we have disregarded we would see that these 3 orbitals $\\hat{\\varphi'}^{\\dagger}_1\\hat{\\varphi'}^{\\dagger}_2\\hat{\\varphi^B}^{\\dagger}_3\\ket{0}$span the same space as the original ones and that their Fock space representation is identical:"
   ]
  },
  {
   "cell_type": "code",
   "execution_count": 332,
   "metadata": {},
   "outputs": [
    {
     "name": "stdout",
     "output_type": "stream",
     "text": [
      "[[-5.13869483e-01  6.34511483e-01 -2.50703216e-17]\n",
      " [-7.05317669e-01  5.02691322e-02 -4.44039753e-17]\n",
      " [-4.54222672e-01 -6.30528914e-01 -2.50562807e-01]\n",
      " [-1.25955749e-02 -1.76726375e-01 -6.84550319e-01]\n",
      " [ 1.78852612e-01  4.07515975e-01 -6.84550319e-01]]\n"
     ]
    }
   ],
   "source": [
    "Phi_new_CAS=np.array([Phi_new_CAS_prime[:,0],Phi_new_CAS_prime[:,1], C_tilde[:,2]])\n",
    "C_new_CAS=np.transpose(Phi_new_CAS)\n",
    "print(C_new_CAS)"
   ]
  },
  {
   "cell_type": "markdown",
   "metadata": {},
   "source": [
    "Here we verify that $\\hat{\\varphi'}^{\\dagger}_1\\hat{\\varphi'}^{\\dagger}_2\\hat{\\varphi^B}^{\\dagger}_3\\ket{0}$ span the same space as the original by\n",
    "\\begin{align}\n",
    "\\phi_{j}=\\sum_{i=1}^3\\langle \\phi_j\\ket{\\varphi^{'}_{i}}\\varphi^{'}_{i}\n",
    "\\end{align}\n",
    "for j=1,2,3"
   ]
  },
  {
   "cell_type": "code",
   "execution_count": 335,
   "metadata": {},
   "outputs": [
    {
     "name": "stdout",
     "output_type": "stream",
     "text": [
      "[0.28867513 0.5        0.57735027 0.5        0.28867513]\n",
      "[0.28867513 0.5        0.57735027 0.5        0.28867513]\n",
      "[-5.00000000e-01 -5.00000000e-01 -2.49800181e-16  5.00000000e-01\n",
      "  5.00000000e-01]\n",
      "[-5.00000000e-01 -5.00000000e-01  2.26646689e-16  5.00000000e-01\n",
      "  5.00000000e-01]\n",
      "[ 5.77350269e-01  1.91537226e-16 -5.77350269e-01  9.71445147e-16\n",
      "  5.77350269e-01]\n",
      "[ 5.77350269e-01 -1.26101626e-16 -5.77350269e-01  2.35095208e-16\n",
      "  5.77350269e-01]\n"
     ]
    }
   ],
   "source": [
    "coef11=np.dot(np.transpose(C[:,0]),C_new_CAS[:,0])\n",
    "coef12=np.dot(np.transpose(C[:,0]),C_new_CAS[:,1])\n",
    "coef13=np.dot(np.transpose(C[:,0]),C_new_CAS[:,2])\n",
    "print(coef11*C_new_CAS[:,0]+coef12*C_new_CAS[:,1]+coef13*C_new_CAS[:,2])\n",
    "\n",
    "print(C[:,0])\n",
    "\n",
    "coef21=np.dot(np.transpose(C[:,1]),C_new_CAS[:,0])\n",
    "coef22=np.dot(np.transpose(C[:,1]),C_new_CAS[:,1])\n",
    "coef23=np.dot(np.transpose(C[:,1]),C_new_CAS[:,2])\n",
    "print(coef21*C_new_CAS[:,0]+coef22*C_new_CAS[:,1]+coef23*C_new_CAS[:,2])\n",
    "\n",
    "print(C[:,1])\n",
    "\n",
    "coef31=np.dot(np.transpose(C[:,2]),C_new_CAS[:,0])\n",
    "coef32=np.dot(np.transpose(C[:,2]),C_new_CAS[:,1])\n",
    "coef33=np.dot(np.transpose(C[:,2]),C_new_CAS[:,2])\n",
    "print(coef31*C_new_CAS[:,0]+coef32*C_new_CAS[:,1]+coef33*C_new_CAS[:,2])\n",
    "\n",
    "print(C[:,2])"
   ]
  },
  {
   "cell_type": "markdown",
   "metadata": {},
   "source": [
    "Last we express our wavefunction in the Fock basis and we indeed verify that we get back the original wavefunction in Fock space"
   ]
  },
  {
   "cell_type": "code",
   "execution_count": 328,
   "metadata": {},
   "outputs": [
    {
     "name": "stdout",
     "output_type": "stream",
     "text": [
      "-0.1056624327025934\n",
      "-0.2886751345948129\n",
      "-0.2886751345948131\n",
      "-0.3943375672974065\n",
      "-0.5000000000000001\n",
      "-0.2886751345948129\n",
      "-0.28867513459481314\n",
      "-0.39433756729740677\n",
      "-0.28867513459481314\n",
      "-0.10566243270259362\n"
     ]
    }
   ],
   "source": [
    "Phi1_CAS_prime=LA.det(C_new_CAS[0:3,:])\n",
    "print(Phi1_CAS_prime)\n",
    "\n",
    "Phi2_CAS_prime=LA.det(C_new_CAS[[0,1,3],:])\n",
    "print(Phi2_CAS_prime)\n",
    "\n",
    "Phi3_CAS_prime=LA.det(C_new_CAS[[0,1,4],:])\n",
    "print(Phi3_CAS_prime)\n",
    "\n",
    "Phi4_CAS_prime=LA.det(C_new_CAS[[0,2,3],:])\n",
    "print(Phi4_CAS_prime)\n",
    "\n",
    "Phi5_CAS_prime=LA.det(C_new_CAS[[0,2,4],:])\n",
    "print(Phi5_CAS_prime)\n",
    "\n",
    "Phi6_CAS_prime=LA.det(C_new_CAS[[0,3,4],:])\n",
    "print(Phi6_CAS_prime)\n",
    "\n",
    "Phi7_CAS_prime=LA.det(C_new_CAS[[1,2,3],:])\n",
    "print(Phi7_CAS_prime)\n",
    "\n",
    "Phi8_CAS_prime=LA.det(C_new_CAS[[1,2,4],:])\n",
    "print(Phi8_CAS_prime)\n",
    "\n",
    "Phi9_CAS_prime=LA.det(C_new_CAS[[1,3,4],:])\n",
    "print(Phi9_CAS_prime)\n",
    "\n",
    "Phi10_CAS_prime=LA.det(C_new_CAS[[2,3,4],:])\n",
    "print(Phi10_CAS_prime)"
   ]
  },
  {
   "cell_type": "markdown",
   "metadata": {},
   "source": [
    "# Embedded system without CAS"
   ]
  },
  {
   "cell_type": "markdown",
   "metadata": {},
   "source": [
    "\\begin{align}\n",
    "\\mathbf{\\tilde{C'}}&=\n",
    "&\\left(\n",
    "\\begin{array}{cc}\n",
    "-0.771467 & -0.267405  \\\\\n",
    "-0.625475& 0.32982 \\\\\n",
    "-0.052699& 0.775311\\\\\n",
    "0.0826406&   0.156721\\\\\n",
    "-0.0633515& -0.440504\\\\\n",
    "\\end{array}\n",
    "\\right)\n",
    "\\end{align}\n",
    "One could then project the single particle Hamiltonian in the basis of rotated orbitals:\n",
    "\\begin{align}\n",
    "\\label{eq:hs_emb_svd}\n",
    "\\mathbf{\\tilde{h'}_s}&=\\mathbf{\\tilde{C'}}^T \\mathbf{h_s} \\mathbf{\\tilde{C'}}\\\\\n",
    "&=\\left(\n",
    "\\begin{array}{cc}\n",
    "-1.01181& 0.58003 \\\\\n",
    " 0.58003&-0.44000\\\\\n",
    "\\end{array}\n",
    "\\right)\n",
    "\\nonumber\n",
    "\\end{align}"
   ]
  },
  {
   "cell_type": "code",
   "execution_count": 207,
   "metadata": {},
   "outputs": [
    {
     "name": "stdout",
     "output_type": "stream",
     "text": [
      "[[-1.01180901  0.58002792]\n",
      " [ 0.58002792 -0.43997782]]\n"
     ]
    }
   ],
   "source": [
    "C_tilde_prime=C_tilde[:,0:2]\n",
    "h_tilde_prime=multi_dot([C_tilde_prime.transpose(),h,C_tilde_prime])\n",
    "print(h_tilde_prime)\n"
   ]
  },
  {
   "cell_type": "markdown",
   "metadata": {},
   "source": [
    "with $\\epsilon_1''=-1.37256$\n",
    "$\\epsilon_2''=-0.07923$\n",
    "The total energy of the system is $E'=\\epsilon''_1+\\epsilon''_2=-1.45179$ which is the same as the one we have found in CAS.\n",
    "The corresponding eigenstates read: \n",
    "\\begin{align}\n",
    "\\tilde{\\phi}''_1&=-0.84916 \\tilde{\\phi}_1\n",
    "+0.52814 \\tilde{\\phi}_2\n",
    "\\end{align}\n",
    "\n",
    "\\begin{align}\n",
    "    \\tilde{\\phi}''_2=-0.52814 \\tilde{\\phi}_1\n",
    "    -0.84916 \\tilde{\\phi}_2\n",
    "\\end{align}\n",
    "with  $\\tilde{\\phi}_i=\\hat{\\tilde{\\phi}}_i\\ket{0}$."
   ]
  },
  {
   "cell_type": "code",
   "execution_count": 209,
   "metadata": {},
   "outputs": [
    {
     "name": "stdout",
     "output_type": "stream",
     "text": [
      "[-1.37256189 -0.07922494]\n",
      "-1.4517868286002644\n"
     ]
    }
   ],
   "source": [
    "e_tilde_doubleprime, phi_tilde_doubleprime=LA.eigh(h_tilde_prime)\n",
    "print(e_tilde_doubleprime)\n",
    "print(e_tilde_doubleprime[0]+e_tilde_doubleprime[1])"
   ]
  },
  {
   "cell_type": "code",
   "execution_count": 186,
   "metadata": {},
   "outputs": [
    {
     "name": "stdout",
     "output_type": "stream",
     "text": [
      "[[-0.84915731 -0.52814   ]\n",
      " [ 0.52814    -0.84915731]]\n"
     ]
    }
   ],
   "source": [
    "print(phi_tilde_doubleprime)"
   ]
  },
  {
   "cell_type": "markdown",
   "metadata": {},
   "source": [
    "We then transform to the original basis $\\hat{c}^{\\dagger}_i\\ket{0}$ by a matrix multiplication since the $\\tilde{\\phi}_i$ are expressed in this basis."
   ]
  },
  {
   "cell_type": "code",
   "execution_count": 224,
   "metadata": {},
   "outputs": [],
   "source": [
    "Phi_new_prime=np.transpose(np.dot(phi_tilde_doubleprime,np.transpose(C_tilde_prime)))"
   ]
  },
  {
   "cell_type": "markdown",
   "metadata": {},
   "source": [
    "Then we add the purely environmental orbital $\\phi_3^{B}$ to see if we get back the original wavefunction:"
   ]
  },
  {
   "cell_type": "code",
   "execution_count": 225,
   "metadata": {},
   "outputs": [
    {
     "name": "stdout",
     "output_type": "stream",
     "text": [
      "[[ 7.96324075e-01 -1.80373595e-01 -2.50703216e-17]\n",
      " [ 3.56935326e-01 -6.10407383e-01 -4.44039753e-17]\n",
      " [-3.64723250e-01 -6.86193775e-01 -2.50562807e-01]\n",
      " [-1.52945387e-01 -8.94347171e-02 -6.84550319e-01]\n",
      " [ 2.86443362e-01  3.40599071e-01 -6.84550319e-01]]\n"
     ]
    }
   ],
   "source": [
    "Phi_new=np.array([Phi_new_prime[:,0],Phi_new_prime[:,1], C_tilde[:,2]])\n",
    "C_new=np.transpose(Phi_new)\n",
    "print(C_new)"
   ]
  },
  {
   "cell_type": "markdown",
   "metadata": {},
   "source": [
    "Here I check whether these first two orbitals span the same space as the original ones"
   ]
  },
  {
   "cell_type": "code",
   "execution_count": 269,
   "metadata": {},
   "outputs": [
    {
     "name": "stdout",
     "output_type": "stream",
     "text": [
      "[0.28867513 0.5        0.57735027 0.5        0.28867513]\n"
     ]
    }
   ],
   "source": [
    "coef11=np.dot(np.transpose(C[:,0]),C_new[:,0])\n",
    "coef12=np.dot(np.transpose(C[:,0]),C_new[:,1])\n",
    "coef13=np.dot(np.transpose(C[:,0]),C_new[:,2])\n",
    "print(coef11*C_new[:,0]+coef12*C_new[:,1]+coef13*C_new[:,2])"
   ]
  },
  {
   "cell_type": "code",
   "execution_count": 267,
   "metadata": {},
   "outputs": [
    {
     "data": {
      "text/plain": [
       "array([0.28867513, 0.5       , 0.57735027, 0.5       , 0.28867513])"
      ]
     },
     "execution_count": 267,
     "metadata": {},
     "output_type": "execute_result"
    }
   ],
   "source": [
    "C[:,0]"
   ]
  },
  {
   "cell_type": "code",
   "execution_count": 272,
   "metadata": {},
   "outputs": [
    {
     "name": "stdout",
     "output_type": "stream",
     "text": [
      "[-5.00000000e-01 -5.00000000e-01  2.22044605e-16  5.00000000e-01\n",
      "  5.00000000e-01]\n"
     ]
    }
   ],
   "source": [
    "coef21=np.dot(np.transpose(C[:,1]),C_new[:,0])\n",
    "coef22=np.dot(np.transpose(C[:,1]),C_new[:,1])\n",
    "coef23=np.dot(np.transpose(C[:,1]),C_new[:,2])\n",
    "print(coef21*C_new[:,0]+coef22*C_new[:,1]+coef23*C_new[:,2])"
   ]
  },
  {
   "cell_type": "code",
   "execution_count": 250,
   "metadata": {},
   "outputs": [
    {
     "data": {
      "text/plain": [
       "array([-5.00000000e-01, -5.00000000e-01,  2.26646689e-16,  5.00000000e-01,\n",
       "        5.00000000e-01])"
      ]
     },
     "execution_count": 250,
     "metadata": {},
     "output_type": "execute_result"
    }
   ],
   "source": [
    "C[:,1]"
   ]
  },
  {
   "cell_type": "markdown",
   "metadata": {},
   "source": [
    "We note that in terms of orbitals this wavefunction does not seem to agree with the original ones, however in the Fock space representation we see that we indeed get back the original wavefunction"
   ]
  },
  {
   "cell_type": "code",
   "execution_count": 263,
   "metadata": {},
   "outputs": [
    {
     "name": "stdout",
     "output_type": "stream",
     "text": [
      "0.10566243270259348\n",
      "0.2886751345948132\n",
      "0.2886751345948133\n",
      "0.39433756729740665\n",
      "0.5000000000000002\n",
      "0.2886751345948131\n",
      "0.2886751345948131\n",
      "0.3943375672974066\n",
      "0.2886751345948131\n",
      "0.10566243270259354\n"
     ]
    }
   ],
   "source": [
    "Phi1dprime=LA.det(C_new[0:3,:])\n",
    "print(Phi1dprime)\n",
    "\n",
    "Phi2dprime=LA.det(C_new[[0,1,3],:])\n",
    "print(Phi2dprime)\n",
    "\n",
    "Phi3dprime=LA.det(C_new[[0,1,4],:])\n",
    "print(Phi3dprime)\n",
    "\n",
    "Phi4dprime=LA.det(C_new[[0,2,3],:])\n",
    "print(Phi4dprime)\n",
    "\n",
    "Phi5dprime=LA.det(C_new[[0,2,4],:])\n",
    "print(Phi5dprime)\n",
    "\n",
    "Phi6dprime=LA.det(C_new[[0,3,4],:])\n",
    "print(Phi6dprime)\n",
    "\n",
    "Phi7dprime=LA.det(C_new[[1,2,3],:])\n",
    "print(Phi7dprime)\n",
    "\n",
    "Phi8dprime=LA.det(C_new[[1,2,4],:])\n",
    "print(Phi8dprime)\n",
    "\n",
    "Phi9dprime=LA.det(C_new[[1,3,4],:])\n",
    "print(Phi9dprime)\n",
    "\n",
    "Phi10dprime=LA.det(C_new[[2,3,4],:])\n",
    "print(Phi10dprime)"
   ]
  },
  {
   "cell_type": "code",
   "execution_count": 341,
   "metadata": {},
   "outputs": [
    {
     "name": "stdout",
     "output_type": "stream",
     "text": [
      "[[-0.33205226  0.51290278 -0.10717304]\n",
      " [ 0.51290278 -1.11973457 -0.47315393]\n",
      " [-0.10717304 -0.47315393 -1.28026398]]\n",
      "[-1.73205081e+00 -1.00000000e+00 -2.51002790e-16]\n"
     ]
    }
   ],
   "source": [
    "h_tilde_dprime=multi_dot([np.transpose(C_new),h,C_new])\n",
    "print(h_tilde_dprime)\n",
    "e_tilde_tripleprime, phi_tilde_tripleprime=LA.eigh(h_tilde_dprime)\n",
    "print(e_tilde_tripleprime)"
   ]
  },
  {
   "cell_type": "markdown",
   "metadata": {},
   "source": [
    "# 4. Interacting systems: Why the projection via the impurity submatrix does not work"
   ]
  },
  {
   "cell_type": "markdown",
   "metadata": {},
   "source": [
    "Let us next see explicitly, why for an interacting system only the (less convenient) projection in Fock space works. The simplest wave function that exhibits the main feature of an interacting many-body wave function (multi-reference character) is the linear combination of two Slater determinants. Here we will use two Slater determinants of the non-interacting Hamiltonian that we have used before i.e.\n",
    "$$\\boldsymbol{H}^{1} \\cong \\boldsymbol{h}^{(1)}=\n",
    "\\left(\n",
    "\\begin{array}{ccccc}\n",
    "0 & -1 & 0 & 0 & 0 \\\\\n",
    "-1 & 0 & -1 & 0 & 0 \\\\\n",
    "0 & -1 & 0 & -1 & 0 \\\\\n",
    "0 & 0 & -1 & 0 & -1 \\\\\n",
    "0 & 0 & 0 & -1 & 0 \\\\\n",
    "\\end{array}\n",
    "\\right)$$"
   ]
  },
  {
   "cell_type": "markdown",
   "metadata": {},
   "source": [
    "\\begin{align}\n",
    "\\ket{\\Phi_1}&=\\hat{\\phi}^{\\dagger}_{1}\\hat{\\phi}^{\\dagger}_{2}\\hat{\\phi}^{\\dagger}_{3}\\ket{\\rm vac},\n",
    "\\\\\n",
    "\\ket{\\Phi_2}&=\\hat{\\phi}^{\\dagger}_{1}\\hat{\\phi}^{\\dagger}_{4}\\hat{\\phi}^{\\dagger}_{5}\\ket{\\rm vac}.\n",
    "\\end{align}\n",
    "Our model interacting wave function is then\n",
    "\\begin{align}\n",
    "    \\ket{\\Psi}=\\lambda_1 \\ket{\\Phi_1}+\\lambda_2\\ket{\\Phi_2}\n",
    "    \\label{eq:inter_wavef_1}\n",
    "\\end{align}\n",
    "with (real) $\\lambda_1^2+\\lambda_2^2=1$. We can define, similar to the coefficient matrix $\\mathbf{C}$, the coefficient matrix of the multi-determinant wave function as\n",
    "\\begin{align}\n",
    "\\mathbf{D}=\n",
    "\\left(\n",
    "\\begin{array}{ccccc}\n",
    "\\frac{1}{\\sqrt{12}} & -0.5 & \\frac{1}{\\sqrt{3}}&0.5 & \\frac{1}{\\sqrt{12}}\\\\\n",
    "0.5 & -0.5 & 0 &-0.5&-0.5\\\\\n",
    "\\frac{1}{\\sqrt{3}} & 0    & -\\frac{1}{\\sqrt{3}}&0&\\frac{1}{\\sqrt{3}} \\\\\n",
    "0.5 & 0.5 & 0 &0.5&-0.5\\\\\n",
    "\\frac{1}{\\sqrt{12}} & 0.5  & \\frac{1}{\\sqrt{3}}&-0.5 &  \\frac{1}{\\sqrt{12}}\n",
    "\\end{array}\n",
    "\\right),\n",
    "\\label{eq:c_matrix_extended}\n",
    "\\end{align}\n",
    "where the last two columns correspond to $\\phi_4$ and $\\phi_5$."
   ]
  },
  {
   "cell_type": "code",
   "execution_count": 313,
   "metadata": {},
   "outputs": [
    {
     "name": "stdout",
     "output_type": "stream",
     "text": [
      "[[ 2.88675135e-01 -5.00000000e-01  5.77350269e-01  5.00000000e-01\n",
      "   2.88675135e-01]\n",
      " [ 5.00000000e-01 -5.00000000e-01 -1.26101626e-16 -5.00000000e-01\n",
      "  -5.00000000e-01]\n",
      " [ 5.77350269e-01  2.26646689e-16 -5.77350269e-01  4.46939106e-17\n",
      "   5.77350269e-01]\n",
      " [ 5.00000000e-01  5.00000000e-01  2.35095208e-16  5.00000000e-01\n",
      "  -5.00000000e-01]\n",
      " [ 2.88675135e-01  5.00000000e-01  5.77350269e-01 -5.00000000e-01\n",
      "   2.88675135e-01]]\n"
     ]
    }
   ],
   "source": [
    "D=np.transpose(np.array([eigenvector[:,0],eigenvector[:,1],eigenvector[:,2],eigenvector[:,3],eigenvector[:,4]]))\n",
    "print(D)"
   ]
  },
  {
   "cell_type": "markdown",
   "metadata": {},
   "source": [
    "If we then fix the missing values, e.g., $\\nu_1=0.8$ and $\\nu_2=0.6$,\n",
    "we can calculate numerically the 1RDM $\\gamma$"
   ]
  },
  {
   "cell_type": "markdown",
   "metadata": {},
   "source": [
    "\\begin{align}\n",
    "    & \\gamma(i,j)=\\langle \\Psi|\\hat{c}^{\\dagger}_j \\hat{c}_i|\\Psi\\rangle\\\\\n",
    "    &=\\nu_1^2 \\langle \\Phi_1|\\hat{c}^{\\dagger}_j \\hat{c}_i|\\Phi_1\\rangle+\n",
    "    \\nu_2^2 \\langle \\Phi_2|\\hat{c}^{\\dagger}_j \\hat{c}_i|\\Phi_2\\rangle \\nonumber\\\\\n",
    "    &=\\nu_1^2 \\sum_{\\mu=1}^3 D^T_{j,\\mu} D_{i,\\mu} +\n",
    "    \\nu_2^2 ( D^T_{j2} D_{i2}+D^T_{j4}D_{i4}+D^T_{j5}D_{i5}). \\nonumber\n",
    "     \\label{eq:1RDM_int}\n",
    "\\end{align}"
   ]
  },
  {
   "cell_type": "code",
   "execution_count": 359,
   "metadata": {},
   "outputs": [
    {
     "name": "stdout",
     "output_type": "stream",
     "text": [
      "[[ 0.63666667  0.20041452 -0.04666667 -0.11958548 -0.04333333]\n",
      " [ 0.20041452  0.59        0.08082904 -0.09       -0.11958548]\n",
      " [-0.04666667  0.08082904  0.54666667  0.08082904 -0.04666667]\n",
      " [-0.11958548 -0.09        0.08082904  0.59        0.20041452]\n",
      " [-0.04333333 -0.11958548 -0.04666667  0.20041452  0.63666667]]\n"
     ]
    }
   ],
   "source": [
    "n1=0.8\n",
    "n2=0.6\n",
    "gamma_int=(n1**2)*np.dot(D[:,0:3],D[:,0:3].transpose())+n2**2*np.dot(D[:,[1,3,4]],D[:,[1,3,4]].transpose())\n",
    "print(gamma_int)"
   ]
  },
  {
   "cell_type": "markdown",
   "metadata": {},
   "source": [
    "and determine its environmental submatrix $\\gamma_{env}(i,j)$ which would correspond to $i,j \\in \\{3,4,5 \\}$. By diagonalizing $\\gamma_env$ we obtain the following eigenvalues and eigenvectors:\n",
    "\\begin{align*}\n",
    "    n_1&= 0.36530\\equiv \\|\\tilde{\\varphi}_1\\|_B^2 \\nonumber\\\\\n",
    "   \\varphi^{B}_1&= -0.45153\\ket{3}+0.67886 \\ket{4}-0.57902 \\ket{5}\n",
    "\\end{align*}\n",
    "\\begin{align*}\n",
    "    n_2&=0.59150\\equiv \\|\\tilde{\\varphi}_2\\|_B^2 \\nonumber\\\\\n",
    "   \\varphi^{B}_2&= 0.88905\\ket{3}+\n",
    "  0.28734\\ket{4}\n",
    " -0.35641 \\ket{5}\n",
    "\\end{align*}\n",
    "\\begin{align*}\n",
    "       n_3&= 0.81653\\equiv \\|\\tilde{\\varphi}_3\\|_B^2   \\nonumber\\\\\n",
    "   \\varphi^{B}_3&= 0.07558\\ket{3} +\n",
    " 0.67570 \\ket{4}+\n",
    " 0.73329  \\ket{5}\n",
    "\\end{align*}"
   ]
  },
  {
   "cell_type": "code",
   "execution_count": 310,
   "metadata": {},
   "outputs": [
    {
     "name": "stdout",
     "output_type": "stream",
     "text": [
      "[0.36530048 0.59149894 0.81653392]\n"
     ]
    }
   ],
   "source": [
    "n_env_int, phi_env_int=LA.eigh(gamma_int[2:5,2:5])\n",
    "print(n_env_int)"
   ]
  },
  {
   "cell_type": "code",
   "execution_count": 360,
   "metadata": {},
   "outputs": [
    {
     "name": "stdout",
     "output_type": "stream",
     "text": [
      "[[-0.45153275  0.88904769  0.07558024]\n",
      " [ 0.67886434  0.28734055  0.67570601]\n",
      " [-0.5790176  -0.35641212  0.73328645]]\n"
     ]
    }
   ],
   "source": [
    "print(phi_env_int)"
   ]
  },
  {
   "cell_type": "markdown",
   "metadata": {},
   "source": [
    "While before we did go on by discarding the orbital with occupation $n=1$, here we do not find such an unentangled occupied environmental orbital. Thus this procedure for obtaining the projection is geared to non interacting systems."
   ]
  }
 ],
 "metadata": {
  "kernelspec": {
   "display_name": "Python 3",
   "language": "python",
   "name": "python3"
  },
  "language_info": {
   "codemirror_mode": {
    "name": "ipython",
    "version": 3
   },
   "file_extension": ".py",
   "mimetype": "text/x-python",
   "name": "python",
   "nbconvert_exporter": "python",
   "pygments_lexer": "ipython3",
   "version": "3.7.6"
  }
 },
 "nbformat": 4,
 "nbformat_minor": 2
}
